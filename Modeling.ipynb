{
 "cells": [
  {
   "cell_type": "code",
   "execution_count": 146,
   "id": "chronic-sampling",
   "metadata": {},
   "outputs": [],
   "source": [
    "# pip install scikit-optimize==0.7.4\n",
    "#!pip install scikit-learn==0.22"
   ]
  },
  {
   "cell_type": "markdown",
   "id": "virtual-breast",
   "metadata": {},
   "source": [
    "## Data"
   ]
  },
  {
   "cell_type": "code",
   "execution_count": 170,
   "id": "strange-filing",
   "metadata": {},
   "outputs": [],
   "source": [
    "import pandas as pd\n",
    "import numpy  as np\n",
    "import pickle\n",
    "import os \n",
    "import json\n",
    "\n",
    "from utils import create_directory\n",
    "\n",
    "# XGBoost\n",
    "from xgboost import XGBClassifier\n",
    "import xgboost as xgb\n",
    "\n",
    "# Visualization\n",
    "import matplotlib.pyplot as plt\n",
    "# Itertools\n",
    "import itertools\n",
    "\n",
    "# LightGBM\n",
    "import lightgbm as lgb\n",
    "\n",
    "# Bayesian Optimizer\n",
    "from skopt import BayesSearchCV\n",
    "from sklearn.metrics import accuracy_score, auc, roc_curve, matthews_corrcoef, roc_auc_score, classification_report, mean_squared_error, confusion_matrix, f1_score, precision_recall_curve, r2_score\n",
    "from sklearn import preprocessing\n",
    "from sklearn.model_selection import StratifiedKFold\n",
    "\n",
    "\n",
    "#https://www.kaggle.com/izzettunc/introduction-to-time-series-clustering"
   ]
  },
  {
   "cell_type": "code",
   "execution_count": 171,
   "id": "strong-relevance",
   "metadata": {},
   "outputs": [
    {
     "name": "stdout",
     "output_type": "stream",
     "text": [
      "<class 'pandas.core.frame.DataFrame'>\n",
      "RangeIndex: 23485 entries, 0 to 23484\n",
      "Data columns (total 16 columns):\n",
      " #   Column                      Non-Null Count  Dtype  \n",
      "---  ------                      --------------  -----  \n",
      " 0   datetime                    23485 non-null  object \n",
      " 1   campaign_id                 23485 non-null  int64  \n",
      " 2   spend                       23485 non-null  float64\n",
      " 3   impressions                 23485 non-null  float64\n",
      " 4   clicks                      23485 non-null  float64\n",
      " 5   purchase                    23485 non-null  float64\n",
      " 6   hour                        23485 non-null  int64  \n",
      " 7   unique_ids                  23485 non-null  object \n",
      " 8   first_24_hour               23485 non-null  bool   \n",
      " 9   test_set                    23485 non-null  bool   \n",
      " 10  ctr                         23485 non-null  float64\n",
      " 11  conversion_rate             23485 non-null  float64\n",
      " 12  custom_conversion_rate      23485 non-null  float64\n",
      " 13  good_performance            23485 non-null  int64  \n",
      " 14  dayofweek                   23485 non-null  int64  \n",
      " 15  next_hour_good_performance  23485 non-null  int64  \n",
      "dtypes: bool(2), float64(7), int64(5), object(2)\n",
      "memory usage: 2.6+ MB\n"
     ]
    }
   ],
   "source": [
    "full_data = pd.read_csv(r\"data/prepared_data_for_modeling.csv\")\n",
    "full_data.info()"
   ]
  },
  {
   "cell_type": "markdown",
   "id": "particular-meeting",
   "metadata": {},
   "source": [
    "Get Useful features"
   ]
  },
  {
   "cell_type": "code",
   "execution_count": 172,
   "id": "affecting-washington",
   "metadata": {},
   "outputs": [],
   "source": [
    "def get_feature_list_from_text(path:str, extension:str='pickle')->list:\n",
    "    \n",
    "    try:\n",
    "        if extension=='pickle':\n",
    "            with open(path, \"rb\") as opened_file:\n",
    "                print('Successfully returned list from: ', path)\n",
    "                return pickle.load(opened_file)\n",
    "    except Exception as error:\n",
    "        raise Exception('Caught this error: ' + repr(error))"
   ]
  },
  {
   "cell_type": "code",
   "execution_count": 173,
   "id": "round-bottom",
   "metadata": {},
   "outputs": [
    {
     "name": "stdout",
     "output_type": "stream",
     "text": [
      "Successfully returned list from:  data/feature_lists_for_modeling.txt\n"
     ]
    },
    {
     "data": {
      "text/plain": [
       "['campaign_id',\n",
       " 'hour',\n",
       " 'dayofweek',\n",
       " 'spend',\n",
       " 'purchase',\n",
       " 'impressions',\n",
       " 'conversion_rate',\n",
       " 'custom_conversion_rate',\n",
       " 'good_performance',\n",
       " 'next_hour_good_performance']"
      ]
     },
     "execution_count": 173,
     "metadata": {},
     "output_type": "execute_result"
    }
   ],
   "source": [
    "sample_features = get_feature_list_from_text(r\"data/feature_lists_for_modeling.txt\")\n",
    "sample_features"
   ]
  },
  {
   "cell_type": "code",
   "execution_count": 192,
   "id": "appreciated-cotton",
   "metadata": {},
   "outputs": [],
   "source": [
    "sample_features = ['campaign_id', 'hour', 'dayofweek','purchase', \n",
    "                   'impressions',\n",
    "                   'good_performance',\n",
    "                   'next_hour_good_performance']"
   ]
  },
  {
   "cell_type": "markdown",
   "id": "listed-cleanup",
   "metadata": {},
   "source": [
    "Specify target variable"
   ]
  },
  {
   "cell_type": "code",
   "execution_count": 193,
   "id": "applicable-medication",
   "metadata": {},
   "outputs": [],
   "source": [
    "target = 'next_hour_good_performance'\n",
    "sample_features.remove(target)"
   ]
  },
  {
   "cell_type": "markdown",
   "id": "ruled-montana",
   "metadata": {},
   "source": [
    "Get Train/Test Split"
   ]
  },
  {
   "cell_type": "code",
   "execution_count": 194,
   "id": "available-pressure",
   "metadata": {},
   "outputs": [],
   "source": [
    "training_data = full_data[full_data['first_24_hour']][sample_features+[target]]\n",
    "X_train = training_data[sample_features]\n",
    "y_train = training_data[target]\n",
    "\n",
    "test_data = full_data[full_data['test_set']][sample_features+[target]]\n",
    "X_test = test_data[sample_features]\n",
    "y_test = test_data[target]\n",
    "\n",
    "del training_data, test_data"
   ]
  },
  {
   "cell_type": "markdown",
   "id": "interim-carnival",
   "metadata": {},
   "source": [
    "Take full data for optimization"
   ]
  },
  {
   "cell_type": "code",
   "execution_count": 195,
   "id": "center-atmosphere",
   "metadata": {},
   "outputs": [],
   "source": [
    "X = full_data[full_data['first_24_hour']][sample_features]\n",
    "y = full_data[full_data['first_24_hour']][target]"
   ]
  },
  {
   "cell_type": "markdown",
   "id": "demonstrated-affair",
   "metadata": {},
   "source": [
    "# Modeling\n",
    "\n",
    "#### Outline\n",
    "   \n",
    "- **Hyperparameter tuning and CV using Bayesian Optimizer** \n",
    "    - Scikit-optimize provides a drop-in replacement for GridSearchCV, which utilizes Bayesian Optimization where a predictive model referred to as \"surrogate\" is used to model the search space and utilized to arrive at good parameter values combination as soon as possible.<br>\n",
    "\n",
    "- **Train and evaluate Models with best params found**\n",
    "    - XGBOOST\n",
    "    - LightGBM\n",
    "    \n",
    "- **Save and Load models**"
   ]
  },
  {
   "cell_type": "code",
   "execution_count": 177,
   "id": "attractive-bracelet",
   "metadata": {},
   "outputs": [],
   "source": [
    "# Define a function to print the status during bayesian hyperparameter search\n",
    "\n",
    "def status_print(optim_result):\n",
    "    \"\"\"Status callback durring bayesian hyperparameter search\"\"\"\n",
    "    \n",
    "    # Get all the models tested so far in DataFrame format\n",
    "    all_models = pd.DataFrame(bayes_cv_tuner.cv_results_)    \n",
    "    \n",
    "    # Get current parameters and the best parameters    \n",
    "    best_params = pd.Series(bayes_cv_tuner.best_params_)\n",
    "    print('Model #{}\\nBest ROC-AUC: {}\\nBest params: {}\\n'.format(\n",
    "        len(all_models),\n",
    "        np.round(bayes_cv_tuner.best_score_, 4),\n",
    "        bayes_cv_tuner.best_params_\n",
    "    ))\n",
    "    \n",
    "def save_tuning_result(model_name:str, info:dict, path:str)->None:\n",
    "\n",
    "    try:\n",
    "        directory = os.path.join(path, model_name)\n",
    "        create_directory(directory)\n",
    "        file = open(f\"{directory}{os.sep}best_params.json\", \"w\")\n",
    "        json.dump(info, file)\n",
    "        file.close()\n",
    "        print('Successfully saved results in', directory)\n",
    "    except Exception as error:\n",
    "        raise Exception('Caught this error: ' + repr(error))\n",
    "        \n",
    "def get_tuning_result(model_name:str, path:str)->dict:\n",
    "    \n",
    "    try:\n",
    "        directory = os.path.join(path, model_name)\n",
    "        file = open(f\"{directory}{os.sep}best_params.json\", \"r\") \n",
    "        return file.read()\n",
    "    except Exception as error:\n",
    "        raise Exception('Caught this error: ' + repr(error))"
   ]
  },
  {
   "cell_type": "code",
   "execution_count": 178,
   "id": "former-niagara",
   "metadata": {},
   "outputs": [],
   "source": [
    "# Define a function to plot confusion matrix\n",
    "def plot_confusion_matrix(cm, classes,\n",
    "                          normalize=False,\n",
    "                          title='Confusion matrix',\n",
    "                          cmap=plt.cm.Blues):\n",
    "    \"\"\"\n",
    "    This function prints and plots the confusion matrix.\n",
    "    Normalization can be applied by setting `normalize=True`\n",
    "    \"\"\"\n",
    "    plt.figure()\n",
    "    plt.imshow(cm, interpolation='nearest', cmap=cmap)\n",
    "    plt.title(title)\n",
    "    plt.colorbar()\n",
    "    tick_marks = np.arange(len(classes))\n",
    "    plt.xticks(tick_marks, classes, rotation=0)\n",
    "    plt.yticks(tick_marks, classes)\n",
    "\n",
    "    thresh = cm.max() / 2.\n",
    "    for i, j in itertools.product(range(cm.shape[0]), range(cm.shape[1])):\n",
    "        plt.text(j, i, cm[i, j],\n",
    "                 horizontalalignment=\"center\",\n",
    "                 color=\"white\" if cm[i, j] > thresh else \"black\")\n",
    "\n",
    "    plt.tight_layout()\n",
    "    plt.ylabel('True label')\n",
    "    plt.xlabel('Predicted label')\n",
    "    plt.show()\n",
    "\n",
    "def to_labels(pos_probs, threshold):\n",
    "# apply threshold to positive probabilities to create labels\n",
    "\n",
    "    return (pos_probs >= threshold).astype('int')\n",
    "\n",
    "    \n",
    "def get_best_threshold(pos_probs:list,)->float:\n",
    "    \n",
    "    # define thresholds\n",
    "    thresholds = np.arange(0, 1, 0.001)\n",
    "\n",
    "    # evaluate each threshold\n",
    "    scores = [f1_score(y_test, to_labels(pos_probs, t), average='macro') for t in thresholds]\n",
    "\n",
    "\n",
    "    # get best threshold\n",
    "    ix = np.argmax(scores)\n",
    "    print('Threshold=%.3f, Macro F-Score=%.5f' % (thresholds[ix], scores[ix]))\n",
    "    \n",
    "    return thresholds[ix]\n",
    "\n",
    "# Define a function which will be used to get the important parameters like AUC, Classification report\n",
    "def print_report(test_set, predictions, labels, threshold:int = None):\n",
    "    \n",
    "    if not threshold:\n",
    "        threshold = get_best_threshold(predictions)\n",
    "        \n",
    "    predictions = predictions>threshold\n",
    "    \n",
    "    cr = classification_report(test_set, predictions, target_names=labels)\n",
    "    cm = confusion_matrix(test_set,  predictions)\n",
    "    mcc = matthews_corrcoef(test_set,  predictions)\n",
    "    plot_confusion_matrix(confusion_matrix(test_set, predictions),labels)\n",
    "    \n",
    "    #plot the curve\n",
    "    fpr, tpr, threshold = roc_curve(test_set,predictions)\n",
    "    auc = roc_auc_score(test_set, predictions)\n",
    "    fig, ax = plt.subplots(figsize=(6,6))\n",
    "    ax.set_title('Receiver Operating Characteristic')\n",
    "    plt.plot(fpr, tpr, 'b',label='Model - AUC = %0.3f'% auc)\n",
    "    ax.legend(loc='lower right')\n",
    "    plt.plot([0,1],[0,1],'r--', label='Chance')\n",
    "    ax.legend()\n",
    "    ax.set_xlim([-0.1,1.0])\n",
    "    ax.set_ylim([-0.1,1.01])\n",
    "    ax.set_ylabel('True Positive Rate')\n",
    "    ax.set_xlabel('False Positive Rate')\n",
    "    plt.show()\n",
    "    \n",
    "    print(cr)\n",
    "    #print('Macro F1 score is:', f1_score(test_set,predictions, average='macro'))\n",
    "    print('Matthews correlation coefficient: ', mcc)\n",
    "\n",
    "\n",
    "    \n",
    "def save_model(model:object, path:str, model_name:str, extension:str='pickle'):\n",
    "\n",
    "    try:\n",
    "        if extension=='pickle':\n",
    "            create_directory(path)\n",
    "            model_name += \".pickle.dat\"\n",
    "            directory = os.path.join(path, model_name)\n",
    "\n",
    "            pickle.dump(model, open(directory, \"wb\"))\n",
    "            print('{} saved in : {}'.format(model_name, path))\n",
    "        else:\n",
    "            raise NotImplementedError\n",
    "    except Exception as error:\n",
    "        raise Exception('Caught this error: ' + repr(error))\n",
    "        \n",
    "def get_model(path:str, model_name:str, extension:str='pickle'):\n",
    "    \n",
    "    try: \n",
    "        if extension=='pickle':\n",
    "            directory = os.path.join(path, model_name)\n",
    "            print('{} found at {}.'.format(model_name, directory))\n",
    "            return pickle.load(open(directory+\".pickle.dat\", \"rb\"))\n",
    "    except Exception as error:\n",
    "        raise Exception('Caught this error: ' + repr(error))"
   ]
  },
  {
   "cell_type": "code",
   "execution_count": 179,
   "id": "informational-scanning",
   "metadata": {},
   "outputs": [],
   "source": [
    "def get_tuned_result(model_name:str, path:str)->dict:\n",
    "    \n",
    "    directory = os.path.join(path, model_name)\n",
    "    file = open(f\"{directory}{os.sep}best_params.json\", \"r\") \n",
    "    \n",
    "    return json.loads(file.read())\n",
    "\n",
    "def get_prediction(model:object, data:pd.core.frame.DataFrame):\n",
    "    predict_proba = model.predict_proba(data)[:, 1]\n",
    "    return predict_proba"
   ]
  },
  {
   "cell_type": "markdown",
   "id": "appropriate-opposition",
   "metadata": {},
   "source": [
    "### XGBoost"
   ]
  },
  {
   "cell_type": "markdown",
   "id": "fitted-oracle",
   "metadata": {},
   "source": [
    "#### Hpo"
   ]
  },
  {
   "cell_type": "code",
   "execution_count": 180,
   "id": "chubby-surveillance",
   "metadata": {},
   "outputs": [],
   "source": [
    "# # SETTINGS - CHANGE THESE TO GET SOMETHING MEANINGFUL\n",
    "# ITERATIONS = 50\n",
    "\n",
    "# # Classifier\n",
    "# bayes_cv_tuner = BayesSearchCV(\n",
    "#     estimator = XGBClassifier(\n",
    "#         n_jobs = 1,\n",
    "#         objective = 'binary:logistic',\n",
    "#         eval_metric = 'auc',\n",
    "#         silent=1,\n",
    "#         tree_method='approx'\n",
    "#     ),\n",
    "#     search_spaces = {\n",
    "#         'learning_rate': (0.01, 1.0, 'log-uniform'),\n",
    "#         'min_child_weight': (0, 10),\n",
    "#         'max_depth': (1, 50),\n",
    "#         'max_delta_step': (0, 20),\n",
    "#         'subsample': (0.01, 1.0, 'uniform'),\n",
    "#         'colsample_bytree': (0.01, 1.0, 'uniform'),\n",
    "#         'colsample_bylevel': (0.01, 1.0, 'uniform'),\n",
    "#         'reg_lambda': (1e-9, 1000),\n",
    "#         'reg_alpha': (1e-9, 1.0, 'log-uniform'),\n",
    "#         'gamma': (1e-9, 0.5, 'log-uniform'),\n",
    "#         'n_estimators': (50, 100),\n",
    "#         'scale_pos_weight': (1, 50, 'log-uniform')\n",
    "#     },    \n",
    "#     scoring = 'roc_auc',\n",
    "#     cv = StratifiedKFold(n_splits=3,\n",
    "#                          shuffle=True,\n",
    "#                          random_state=42),\n",
    "#     n_jobs = 3,\n",
    "#     n_iter = ITERATIONS,   \n",
    "#     verbose = 0,\n",
    "#     refit = True,\n",
    "#     random_state = 42\n",
    "# )"
   ]
  },
  {
   "cell_type": "code",
   "execution_count": 181,
   "id": "professional-typing",
   "metadata": {},
   "outputs": [],
   "source": [
    "ITERATIONS = 100\n",
    "\n",
    "# Classifier\n",
    "bayes_cv_tuner = BayesSearchCV(\n",
    "    estimator = XGBClassifier(\n",
    "        n_jobs = 1,\n",
    "        objective = 'binary:logistic',\n",
    "        eval_metric = 'auc',\n",
    "        silent=1,\n",
    "        tree_method='approx'\n",
    "    ),\n",
    "    search_spaces = {\n",
    "        'learning_rate': (0.01, 1.0, 'log-uniform'),\n",
    "        'min_child_weight': (0, 10),\n",
    "        'max_depth': (5, 500),\n",
    "        'max_delta_step': (0, 20),\n",
    "        'subsample': (0.01, 1.0, 'uniform'),\n",
    "        'colsample_bytree': (0.01, 1.0, 'uniform'),\n",
    "        'colsample_bylevel': (0.01, 1.0, 'uniform'),\n",
    "        'reg_lambda': (1e-9, 1000),\n",
    "        'reg_alpha': (1e-9, 1.0, 'log-uniform'),\n",
    "        'gamma': (1e-9, 0.5, 'log-uniform'),\n",
    "        'n_estimators': (50, 500),\n",
    "        'scale_pos_weight': (1, 50, 'log-uniform')\n",
    "    },    \n",
    "    scoring = 'roc_auc',\n",
    "    cv = StratifiedKFold(n_splits=3,\n",
    "                         shuffle=True,\n",
    "                         random_state=42),\n",
    "    n_jobs = 3,\n",
    "    n_iter = ITERATIONS,   \n",
    "    verbose = 0,\n",
    "    refit = True,\n",
    "    random_state = 42\n",
    ")"
   ]
  },
  {
   "cell_type": "markdown",
   "id": "suited-seafood",
   "metadata": {},
   "source": [
    "Start finding parameters and save result"
   ]
  },
  {
   "cell_type": "code",
   "execution_count": 123,
   "id": "valuable-kitchen",
   "metadata": {},
   "outputs": [],
   "source": [
    "#xgb_tuning_result = bayes_cv_tuner.fit(X, y, callback=status_print)\n",
    "##save_tuning_result('XGB', xgb_tuning_result.best_params_, 'HPO')"
   ]
  },
  {
   "cell_type": "markdown",
   "id": "joined-treasure",
   "metadata": {},
   "source": [
    "Load best params found"
   ]
  },
  {
   "cell_type": "code",
   "execution_count": 167,
   "id": "confident-theory",
   "metadata": {},
   "outputs": [
    {
     "data": {
      "text/plain": [
       "{'colsample_bylevel': 0.8015579071911014,\n",
       " 'colsample_bytree': 0.44364889457651413,\n",
       " 'gamma': 3.811128976537413e-05,\n",
       " 'learning_rate': 0.2700390206185342,\n",
       " 'max_delta_step': 18,\n",
       " 'max_depth': 36,\n",
       " 'min_child_weight': 4,\n",
       " 'n_estimators': 83,\n",
       " 'reg_alpha': 1.5057560255472018e-06,\n",
       " 'reg_lambda': 659.4262286994368,\n",
       " 'scale_pos_weight': 26,\n",
       " 'subsample': 0.8835665823899177}"
      ]
     },
     "execution_count": 167,
     "metadata": {},
     "output_type": "execute_result"
    }
   ],
   "source": [
    "best_params = get_tuned_result('XGB', 'HPO')\n",
    "#best_params = xgb_tuning_result.best_params_\n",
    "best_params"
   ]
  },
  {
   "cell_type": "markdown",
   "id": "existing-wildlife",
   "metadata": {},
   "source": [
    "##### Train Model"
   ]
  },
  {
   "cell_type": "code",
   "execution_count": 182,
   "id": "entire-credit",
   "metadata": {},
   "outputs": [
    {
     "name": "stderr",
     "output_type": "stream",
     "text": [
      "F:\\miniconda3\\envs\\lfi\\lib\\site-packages\\xgboost\\sklearn.py:1146: UserWarning: The use of label encoder in XGBClassifier is deprecated and will be removed in a future release. To remove this warning, do the following: 1) Pass option use_label_encoder=False when constructing XGBClassifier object; and 2) Encode your labels (y) as integers starting with 0, i.e. 0, 1, 2, ..., [num_class - 1].\n",
      "  warnings.warn(label_encoder_deprecation_msg, UserWarning)\n"
     ]
    },
    {
     "name": "stdout",
     "output_type": "stream",
     "text": [
      "[01:10:11] WARNING: ..\\src\\learner.cc:1095: Starting in XGBoost 1.3.0, the default evaluation metric used with the objective 'binary:logistic' was changed from 'error' to 'logloss'. Explicitly set eval_metric if you'd like to restore the old behavior.\n",
      "\n",
      "\n",
      "Model trained successfully!\n"
     ]
    }
   ],
   "source": [
    "#50 Iteration\n",
    "xgb_model = XGBClassifier(colsample_bylevel= best_params['colsample_bylevel'],\n",
    "                          colsample_bytree= best_params['colsample_bytree'], \n",
    "                          gamma= best_params['gamma'],\n",
    "                          learning_rate= best_params['learning_rate'],\n",
    "                          max_delta_step= best_params['max_delta_step'], \n",
    "                          max_depth= best_params['max_depth'],\n",
    "                          min_child_weight= best_params['min_child_weight'],\n",
    "                          n_estimators= best_params['n_estimators'],\n",
    "                          reg_alpha= best_params['reg_alpha'], \n",
    "                          reg_lambda= best_params['reg_lambda'],\n",
    "                          scale_pos_weight= best_params['scale_pos_weight'],\n",
    "                          subsample= best_params['subsample'])\n",
    "\n",
    "xgb_model.fit(X_train, y_train)\n",
    "print('\\n\\nModel trained successfully!')"
   ]
  },
  {
   "cell_type": "markdown",
   "id": "foster-maintenance",
   "metadata": {},
   "source": [
    "#### Evaluate Model"
   ]
  },
  {
   "cell_type": "markdown",
   "id": "dominican-nicholas",
   "metadata": {},
   "source": [
    "On Test Set"
   ]
  },
  {
   "cell_type": "code",
   "execution_count": 126,
   "id": "drawn-notice",
   "metadata": {
    "scrolled": true
   },
   "outputs": [
    {
     "name": "stderr",
     "output_type": "stream",
     "text": [
      "F:\\miniconda3\\envs\\lfi\\lib\\site-packages\\xgboost\\data.py:112: UserWarning: Use subset (sliced data) of np.ndarray is not recommended because it will generate extra copies and increase memory consumption\n",
      "  warnings.warn(\n"
     ]
    },
    {
     "name": "stdout",
     "output_type": "stream",
     "text": [
      "Threshold=0.840, Macro F-Score=0.66441\n"
     ]
    },
    {
     "data": {
      "image/png": "[encoded data removed]",
      "text/plain": [
       "<Figure size 432x288 with 2 Axes>"
      ]
     },
     "metadata": {
      "needs_background": "light"
     },
     "output_type": "display_data"
    },
    {
     "data": {
      "image/png": "[encoded data removed]",
      "text/plain": [
       "<Figure size 432x432 with 1 Axes>"
      ]
     },
     "metadata": {
      "needs_background": "light"
     },
     "output_type": "display_data"
    },
    {
     "name": "stdout",
     "output_type": "stream",
     "text": [
      "              precision    recall  f1-score   support\n",
      "\n",
      "     Bad Ads       0.97      0.95      0.96      2470\n",
      "    Good Ads       0.32      0.44      0.37       135\n",
      "\n",
      "    accuracy                           0.92      2605\n",
      "   macro avg       0.64      0.69      0.66      2605\n",
      "weighted avg       0.94      0.92      0.93      2605\n",
      "\n",
      "Matthews correlation coefficient:  0.33433327934652285\n"
     ]
    }
   ],
   "source": [
    "preidiction = get_prediction(xgb_model, X_test)\n",
    "\n",
    "labels = ['Bad Ads', 'Good Ads']\n",
    "print_report(y_test, preidiction, labels)"
   ]
  },
  {
   "cell_type": "markdown",
   "id": "internal-meter",
   "metadata": {},
   "source": [
    "On Training set"
   ]
  },
  {
   "cell_type": "code",
   "execution_count": 127,
   "id": "worthy-livestock",
   "metadata": {},
   "outputs": [
    {
     "name": "stderr",
     "output_type": "stream",
     "text": [
      "F:\\miniconda3\\envs\\lfi\\lib\\site-packages\\xgboost\\data.py:112: UserWarning: Use subset (sliced data) of np.ndarray is not recommended because it will generate extra copies and increase memory consumption\n",
      "  warnings.warn(\n"
     ]
    },
    {
     "data": {
      "image/png": "[encoded data removed]",
      "text/plain": [
       "<Figure size 432x288 with 2 Axes>"
      ]
     },
     "metadata": {
      "needs_background": "light"
     },
     "output_type": "display_data"
    },
    {
     "data": {
      "image/png": "[encoded data removed]",
      "text/plain": [
       "<Figure size 432x432 with 1 Axes>"
      ]
     },
     "metadata": {
      "needs_background": "light"
     },
     "output_type": "display_data"
    },
    {
     "name": "stdout",
     "output_type": "stream",
     "text": [
      "              precision    recall  f1-score   support\n",
      "\n",
      "     Bad Ads       0.97      0.94      0.95     19701\n",
      "    Good Ads       0.32      0.45      0.37      1179\n",
      "\n",
      "    accuracy                           0.92     20880\n",
      "   macro avg       0.64      0.69      0.66     20880\n",
      "weighted avg       0.93      0.92      0.92     20880\n",
      "\n",
      "Matthews correlation coefficient:  0.3340405180966698\n"
     ]
    }
   ],
   "source": [
    "preidiction = get_prediction(xgb_model, X_train)\n",
    "print_report(y_train, preidiction, labels, threshold=0.840)"
   ]
  },
  {
   "cell_type": "markdown",
   "id": "approximate-slovakia",
   "metadata": {},
   "source": [
    "#### Save Model"
   ]
  },
  {
   "cell_type": "code",
   "execution_count": 128,
   "id": "consecutive-progressive",
   "metadata": {},
   "outputs": [
    {
     "name": "stdout",
     "output_type": "stream",
     "text": [
      "xgb_model.pickle.dat saved in : model\n"
     ]
    }
   ],
   "source": [
    "# save model to file\n",
    "# path = 'model'\n",
    "# model_name = 'xgb_model'\n",
    "\n",
    "## save_model(xgb_model, path, model_name)"
   ]
  },
  {
   "cell_type": "markdown",
   "id": "lucky-statistics",
   "metadata": {},
   "source": [
    "#### Load Model"
   ]
  },
  {
   "cell_type": "code",
   "execution_count": 82,
   "id": "brutal-silence",
   "metadata": {},
   "outputs": [],
   "source": [
    "# path = 'model'\n",
    "# model_name = 'xgb_model'\n",
    "\n",
    "# # load model from file\n",
    "# loaded_model = get_model(path, model_name)\n",
    "# pred_proba = get_prediction(loaded_model, X_test)\n",
    "\n",
    "# labels = ['Bad Ads', 'Good Ads']\n",
    "# print_report(y_test, pred_proba, labels)"
   ]
  },
  {
   "cell_type": "markdown",
   "id": "atlantic-hungarian",
   "metadata": {},
   "source": [
    "## b. LightGBM"
   ]
  },
  {
   "cell_type": "markdown",
   "id": "informal-chile",
   "metadata": {},
   "source": [
    "#### HPO"
   ]
  },
  {
   "cell_type": "code",
   "execution_count": 186,
   "id": "unique-breach",
   "metadata": {},
   "outputs": [],
   "source": [
    "ITERATIONS = 100\n",
    "\n",
    "bayes_cv_tuner = BayesSearchCV(\n",
    "    estimator = lgb.LGBMClassifier(\n",
    "        n_jobs = 1,\n",
    "        objective = 'binary',\n",
    "        eval_metric = 'auc',\n",
    "        silent=1,\n",
    "        tree_method='approx'\n",
    "    ),\n",
    "    \n",
    "    search_spaces = {\n",
    "        'colsample_bytree': (0.01, 1.0, 'uniform'),\n",
    "        'learning_rate': (0.001, 1.0, 'log-uniform'),\n",
    "        'max_depth': (1, 500),\n",
    "        'max_bin':(50,5000),\n",
    "        'n_estimators': (50, 100),\n",
    "        'reg_lambda': (1e-9, 1000.0, 'log-uniform'),\n",
    "        'reg_alpha': (1e-9, 1.0, 'log-uniform'),\n",
    "        'scale_pos_weight': (1, 100, 'log-uniform'),\n",
    "        'subsample': (0.01, 1.0, 'uniform'),\n",
    "        \"boosting_type\": [\"gbdt\", \"dart\"],\n",
    "        \"num_leaves\": (100, 2000),\n",
    "    },    \n",
    "    scoring = 'roc_auc',\n",
    "    cv = StratifiedKFold(\n",
    "        n_splits=3,\n",
    "        shuffle=True,\n",
    "        random_state=42\n",
    "    ),\n",
    "    n_jobs = 3,\n",
    "    n_iter = ITERATIONS,   \n",
    "    verbose = 0,\n",
    "    refit = True,\n",
    "    random_state = 42\n",
    ")"
   ]
  },
  {
   "cell_type": "markdown",
   "id": "toxic-coupon",
   "metadata": {},
   "source": [
    "Start finding parameters and save result"
   ]
  },
  {
   "cell_type": "code",
   "execution_count": 187,
   "id": "incorrect-wesley",
   "metadata": {},
   "outputs": [],
   "source": [
    "#light_gbm_tuned = bayes_cv_tuner.fit(X, y, callback=status_print)\n",
    "##save_tuning_result('LightGBM', light_gbm_tuned.best_params_, 'HPO')"
   ]
  },
  {
   "cell_type": "markdown",
   "id": "expected-henry",
   "metadata": {},
   "source": [
    "Load best params found"
   ]
  },
  {
   "cell_type": "code",
   "execution_count": 130,
   "id": "outside-consciousness",
   "metadata": {},
   "outputs": [
    {
     "data": {
      "text/plain": [
       "{'boosting_type': 'gbdt',\n",
       " 'colsample_bytree': 0.4194735998017874,\n",
       " 'learning_rate': 0.12136702654025933,\n",
       " 'max_bin': 4761,\n",
       " 'max_depth': 15,\n",
       " 'n_estimators': 60,\n",
       " 'num_leaves': 2000,\n",
       " 'reg_alpha': 1.0,\n",
       " 'reg_lambda': 1000.0,\n",
       " 'scale_pos_weight': 32,\n",
       " 'subsample': 0.7029212166466253}"
      ]
     },
     "execution_count": 130,
     "metadata": {},
     "output_type": "execute_result"
    }
   ],
   "source": [
    "best_params = get_tuned_result('LightGBM', 'HPO')\n",
    "#best_params = light_gbm_tuned.best_params_\n",
    "best_params"
   ]
  },
  {
   "cell_type": "markdown",
   "id": "curious-singer",
   "metadata": {},
   "source": [
    "#### Train Model"
   ]
  },
  {
   "cell_type": "code",
   "execution_count": 196,
   "id": "steady-barrel",
   "metadata": {},
   "outputs": [
    {
     "name": "stdout",
     "output_type": "stream",
     "text": [
      "\n",
      "\n",
      "Model trained successfully!\n"
     ]
    }
   ],
   "source": [
    "lgb_model  = lgb.LGBMClassifier(colsample_bytree = best_params['colsample_bytree'], \n",
    "                               learning_rate = best_params['learning_rate'], \n",
    "                               max_depth = best_params['max_depth'], \n",
    "                               n_estimators = best_params['n_estimators'], \n",
    "                               reg_alpha = best_params['reg_alpha'], \n",
    "                               reg_lambda = best_params['reg_lambda'],\n",
    "                               scale_pos_weight  = best_params['scale_pos_weight'], \n",
    "                               boosting_type = best_params['boosting_type'], \n",
    "                               subsample = best_params['subsample'], \n",
    "                               num_leaves = best_params['num_leaves'])\n",
    "\n",
    "lgb_model.fit(X_train, y_train)\n",
    "print('\\n\\nModel trained successfully!')"
   ]
  },
  {
   "cell_type": "markdown",
   "id": "thirty-hughes",
   "metadata": {},
   "source": [
    "#### Evaluate Model"
   ]
  },
  {
   "cell_type": "markdown",
   "id": "flexible-stand",
   "metadata": {},
   "source": [
    "On Test Set"
   ]
  },
  {
   "cell_type": "code",
   "execution_count": 131,
   "id": "aerial-saudi",
   "metadata": {
    "scrolled": true
   },
   "outputs": [
    {
     "name": "stdout",
     "output_type": "stream",
     "text": [
      "Threshold=0.831, Macro F-Score=0.64365\n"
     ]
    },
    {
     "data": {
      "image/png": "[encoded data removed]",
      "text/plain": [
       "<Figure size 432x288 with 2 Axes>"
      ]
     },
     "metadata": {
      "needs_background": "light"
     },
     "output_type": "display_data"
    },
    {
     "data": {
      "image/png": "[encoded data removed]",
      "text/plain": [
       "<Figure size 432x432 with 1 Axes>"
      ]
     },
     "metadata": {
      "needs_background": "light"
     },
     "output_type": "display_data"
    },
    {
     "name": "stdout",
     "output_type": "stream",
     "text": [
      "              precision    recall  f1-score   support\n",
      "\n",
      "     Bad Ads       0.97      0.93      0.95      2470\n",
      "    Good Ads       0.27      0.44      0.34       135\n",
      "\n",
      "    accuracy                           0.91      2605\n",
      "   macro avg       0.62      0.69      0.64      2605\n",
      "weighted avg       0.93      0.91      0.92      2605\n",
      "\n",
      "Matthews correlation coefficient:  0.3007825430415892\n"
     ]
    }
   ],
   "source": [
    "preidiction = get_prediction(lgb_model, X_test)\n",
    "\n",
    "labels = ['Bad Ads', 'Good Ads']\n",
    "print_report(y_test, preidiction, labels)"
   ]
  },
  {
   "cell_type": "markdown",
   "id": "resistant-carrier",
   "metadata": {},
   "source": [
    "On Training Set"
   ]
  },
  {
   "cell_type": "code",
   "execution_count": 132,
   "id": "prompt-writer",
   "metadata": {
    "scrolled": true
   },
   "outputs": [
    {
     "data": {
      "image/png": "[encoded data removed]",
      "text/plain": [
       "<Figure size 432x288 with 2 Axes>"
      ]
     },
     "metadata": {
      "needs_background": "light"
     },
     "output_type": "display_data"
    },
    {
     "data": {
      "image/png": "[encoded data removed]",
      "text/plain": [
       "<Figure size 432x432 with 1 Axes>"
      ]
     },
     "metadata": {
      "needs_background": "light"
     },
     "output_type": "display_data"
    },
    {
     "name": "stdout",
     "output_type": "stream",
     "text": [
      "              precision    recall  f1-score   support\n",
      "\n",
      "     Bad Ads       0.97      0.92      0.94     19701\n",
      "    Good Ads       0.27      0.47      0.34      1179\n",
      "\n",
      "    accuracy                           0.90     20880\n",
      "   macro avg       0.62      0.70      0.64     20880\n",
      "weighted avg       0.93      0.90      0.91     20880\n",
      "\n",
      "Matthews correlation coefficient:  0.3038726278319284\n"
     ]
    }
   ],
   "source": [
    "preidiction = get_prediction(lgb_model, X_train)\n",
    "print_report(y_train, preidiction, labels, threshold = 0.831)"
   ]
  },
  {
   "cell_type": "markdown",
   "id": "center-samuel",
   "metadata": {},
   "source": [
    "#### Save Model"
   ]
  },
  {
   "cell_type": "code",
   "execution_count": 133,
   "id": "serious-fossil",
   "metadata": {},
   "outputs": [
    {
     "name": "stdout",
     "output_type": "stream",
     "text": [
      "lightGBM_model.pickle.dat saved in : model\n"
     ]
    }
   ],
   "source": [
    "# # save model to file\n",
    "# path = 'model'\n",
    "# model_name = 'lightGBM_model'\n",
    "\n",
    "# save_model(lgb_model, path, model_name)"
   ]
  },
  {
   "cell_type": "markdown",
   "id": "played-scout",
   "metadata": {},
   "source": [
    "#### Load Model"
   ]
  },
  {
   "cell_type": "code",
   "execution_count": 135,
   "id": "terminal-tiffany",
   "metadata": {},
   "outputs": [
    {
     "name": "stdout",
     "output_type": "stream",
     "text": [
      "lightGBM_model found at model\\lightGBM_model.\n"
     ]
    },
    {
     "data": {
      "image/png": "[encoded data removed]",
      "text/plain": [
       "<Figure size 432x288 with 2 Axes>"
      ]
     },
     "metadata": {
      "needs_background": "light"
     },
     "output_type": "display_data"
    },
    {
     "data": {
      "image/png": "[encoded data removed]",
      "text/plain": [
       "<Figure size 432x432 with 1 Axes>"
      ]
     },
     "metadata": {
      "needs_background": "light"
     },
     "output_type": "display_data"
    },
    {
     "name": "stdout",
     "output_type": "stream",
     "text": [
      "              precision    recall  f1-score   support\n",
      "\n",
      "     Bad Ads       0.97      0.93      0.95      2470\n",
      "    Good Ads       0.27      0.44      0.34       135\n",
      "\n",
      "    accuracy                           0.91      2605\n",
      "   macro avg       0.62      0.69      0.64      2605\n",
      "weighted avg       0.93      0.91      0.92      2605\n",
      "\n",
      "Matthews correlation coefficient:  0.3007825430415892\n"
     ]
    }
   ],
   "source": [
    "# path = 'model'\n",
    "# model_name = 'lightGBM_model'\n",
    "\n",
    "# # load model from file\n",
    "# loaded_model = get_model(path, model_name)\n",
    "# pred_proba = get_prediction(loaded_model, X_test)\n",
    "\n",
    "# labels = ['Bad Ads', 'Good Ads']\n",
    "# print_report(y_test, pred_proba, labels, threshold = 0.831)"
   ]
  }
 ],
 "metadata": {
  "kernelspec": {
   "display_name": "Python 3",
   "language": "python",
   "name": "python3"
  },
  "language_info": {
   "codemirror_mode": {
    "name": "ipython",
    "version": 3
   },
   "file_extension": ".py",
   "mimetype": "text/x-python",
   "name": "python",
   "nbconvert_exporter": "python",
   "pygments_lexer": "ipython3",
   "version": "3.8.8"
  }
 },
 "nbformat": 4,
 "nbformat_minor": 5
}
