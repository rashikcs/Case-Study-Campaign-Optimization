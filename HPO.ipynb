{
 "cells": [
  {
   "cell_type": "markdown",
   "id": "coral-secret",
   "metadata": {},
   "source": [
    "# Hyperparameter optimization\n",
    "\n",
    "## Outline\n",
    "   \n",
    "- **Hyperparameter tuning and CV using Bayesian Optimizer** \n",
    "    - Scikit-optimize provides a drop-in replacement for GridSearchCV, which utilizes Bayesian Optimization where a predictive model referred to as \"surrogate\" is used to model the search space and utilized to arrive at good parameter values combination as soon as possible.<br>\n",
    "\n",
    "- **Find Parameters for the following tree based models**\n",
    "    - XGBOOST\n",
    "    - LightGBM\n",
    "    - Random Forest\n",
    "    \n",
    "- **Save tuned parameters**"
   ]
  },
  {
   "cell_type": "code",
   "execution_count": 4,
   "id": "strange-filing",
   "metadata": {},
   "outputs": [],
   "source": [
    "import pandas as pd\n",
    "import numpy  as np\n",
    " \n",
    "# # Models\n",
    "from lightgbm import LGBMClassifier\n",
    "from xgboost import XGBClassifier\n",
    "from sklearn.ensemble import RandomForestClassifier\n",
    "\n",
    "from skopt import BayesSearchCV\n",
    "from sklearn.model_selection import StratifiedKFold\n",
    "\n",
    "from scripts.preprocess import get_feature_list_from_text_excluding_target\n",
    "from scripts.utils import set_seed\n",
    "from scripts.utils import save_dict_as_json\n",
    "from scripts.utils import read_json_file\n",
    "\n",
    "seed = 112358\n",
    "\n",
    "set_seed(seed)"
   ]
  },
  {
   "cell_type": "markdown",
   "id": "virtual-breast",
   "metadata": {},
   "source": [
    "## Data"
   ]
  },
  {
   "cell_type": "code",
   "execution_count": 6,
   "id": "balanced-adoption",
   "metadata": {},
   "outputs": [
    {
     "name": "stdout",
     "output_type": "stream",
     "text": [
      "<class 'pandas.core.frame.DataFrame'>\n",
      "RangeIndex: 23485 entries, 0 to 23484\n",
      "Data columns (total 16 columns):\n",
      " #   Column                      Non-Null Count  Dtype  \n",
      "---  ------                      --------------  -----  \n",
      " 0   datetime                    23485 non-null  object \n",
      " 1   campaign_id                 23485 non-null  int64  \n",
      " 2   spend                       23485 non-null  float64\n",
      " 3   impressions                 23485 non-null  float64\n",
      " 4   clicks                      23485 non-null  float64\n",
      " 5   purchase                    23485 non-null  float64\n",
      " 6   hour                        23485 non-null  int64  \n",
      " 7   unique_ids                  23485 non-null  object \n",
      " 8   first_24_hour               23485 non-null  bool   \n",
      " 9   test_set                    23485 non-null  bool   \n",
      " 10  ctr                         23485 non-null  float64\n",
      " 11  conversion_rate             23485 non-null  float64\n",
      " 12  custom_conversion_rate      23485 non-null  float64\n",
      " 13  good_performance            23485 non-null  int64  \n",
      " 14  dayofweek                   23485 non-null  int64  \n",
      " 15  next_hour_good_performance  23485 non-null  int64  \n",
      "dtypes: bool(2), float64(7), int64(5), object(2)\n",
      "memory usage: 2.6+ MB\n"
     ]
    }
   ],
   "source": [
    "full_data = pd.read_csv(r\"data/prepared_data_for_modeling.csv\")\n",
    "full_data.info()"
   ]
  },
  {
   "cell_type": "markdown",
   "id": "outstanding-polish",
   "metadata": {},
   "source": [
    "Specify target variable and get features"
   ]
  },
  {
   "cell_type": "code",
   "execution_count": 7,
   "id": "governmental-arizona",
   "metadata": {},
   "outputs": [
    {
     "name": "stdout",
     "output_type": "stream",
     "text": [
      "Successfully returned list from:  data/feature_lists_for_modeling.txt\n"
     ]
    },
    {
     "data": {
      "text/plain": [
       "['spend',\n",
       " 'purchase',\n",
       " 'impressions',\n",
       " 'hour',\n",
       " 'good_performance',\n",
       " 'dayofweek',\n",
       " 'custom_conversion_rate',\n",
       " 'conversion_rate',\n",
       " 'clicks',\n",
       " 'campaign_id']"
      ]
     },
     "execution_count": 7,
     "metadata": {},
     "output_type": "execute_result"
    }
   ],
   "source": [
    "target = 'next_hour_good_performance'\n",
    "sample_features = get_feature_list_from_text_excluding_target(r\"data/feature_lists_for_modeling.txt\", target)\n",
    "sample_features"
   ]
  },
  {
   "cell_type": "markdown",
   "id": "patient-concentrate",
   "metadata": {},
   "source": [
    "Take full data for optimization"
   ]
  },
  {
   "cell_type": "code",
   "execution_count": 8,
   "id": "romance-speaking",
   "metadata": {},
   "outputs": [],
   "source": [
    "X = np.ascontiguousarray(full_data[full_data['first_24_hour']][sample_features])\n",
    "y = np.ascontiguousarray(full_data[full_data['first_24_hour']][target])"
   ]
  },
  {
   "cell_type": "code",
   "execution_count": 9,
   "id": "attractive-bracelet",
   "metadata": {},
   "outputs": [],
   "source": [
    "def status_print(optim_result):\n",
    "    \"\"\"Status callback durring bayesian hyperparameter search\"\"\"\n",
    "    \n",
    "    # Get all the models tested so far in DataFrame format\n",
    "    all_models = pd.DataFrame(bayes_cv_tuner.cv_results_)    \n",
    "    \n",
    "    # Get current parameters and the best parameters    \n",
    "    best_params = pd.Series(bayes_cv_tuner.best_params_)\n",
    "    print('Model #{}\\nBest ROC-AUC: {}\\nBest params: {}\\n'.format(\n",
    "        len(all_models),\n",
    "        np.round(bayes_cv_tuner.best_score_, 4),\n",
    "        bayes_cv_tuner.best_params_\n",
    "    ))"
   ]
  },
  {
   "cell_type": "markdown",
   "id": "amateur-float",
   "metadata": {},
   "source": [
    "### XGBoost"
   ]
  },
  {
   "cell_type": "markdown",
   "id": "fitted-oracle",
   "metadata": {},
   "source": [
    "#### Hpo"
   ]
  },
  {
   "cell_type": "code",
   "execution_count": 21,
   "id": "organized-provincial",
   "metadata": {},
   "outputs": [],
   "source": [
    "ITERATIONS = 100\n",
    "\n",
    "# Classifier\n",
    "bayes_cv_tuner = BayesSearchCV(\n",
    "    estimator = XGBClassifier(\n",
    "        n_jobs = 1,\n",
    "        objective = 'binary:logistic',\n",
    "        eval_metric = 'auc',\n",
    "        silent=1,\n",
    "        tree_method='approx'\n",
    "    ),\n",
    "    search_spaces = {\n",
    "        'learning_rate': (0.01, 1.0, 'log-uniform'),\n",
    "        'min_child_weight': (0, 10),\n",
    "        'max_depth': (5, 500),\n",
    "        'max_delta_step': (0, 20),\n",
    "        'subsample': (0.01, 1.0, 'uniform'),\n",
    "        'colsample_bytree': (0.01, 1.0, 'uniform'),\n",
    "        'colsample_bylevel': (0.01, 1.0, 'uniform'),\n",
    "        'reg_lambda': (1e-9, 1000),\n",
    "        'reg_alpha': (1e-9, 1.0, 'log-uniform'),\n",
    "        'gamma': (1e-9, 0.5, 'log-uniform'),\n",
    "        'n_estimators': (50, 500),\n",
    "        'scale_pos_weight': (1, 50, 'log-uniform')\n",
    "    },    \n",
    "    scoring = 'roc_auc',\n",
    "    cv = StratifiedKFold(n_splits=3,\n",
    "                         shuffle=True,\n",
    "                         random_state=seed),\n",
    "    n_jobs = 3,\n",
    "    n_iter = ITERATIONS,   \n",
    "    verbose = 0,\n",
    "    refit = True,\n",
    "    random_state = seed\n",
    ")"
   ]
  },
  {
   "cell_type": "markdown",
   "id": "cordless-tourism",
   "metadata": {},
   "source": [
    "Start finding parameters and save result"
   ]
  },
  {
   "cell_type": "code",
   "execution_count": 22,
   "id": "foreign-absence",
   "metadata": {},
   "outputs": [],
   "source": [
    "xgb_tuning_result = bayes_cv_tuner.fit(X, y, callback=status_print)\n",
    "save_dict_as_json('HPO/XGB/', light_gbm_tuned.best_params_, 'best_params')"
   ]
  },
  {
   "cell_type": "markdown",
   "id": "ruled-ordinary",
   "metadata": {},
   "source": [
    "Load best params found"
   ]
  },
  {
   "cell_type": "code",
   "execution_count": 2,
   "id": "parallel-french",
   "metadata": {},
   "outputs": [
    {
     "data": {
      "text/plain": [
       "{'colsample_bylevel': 0.8015579071911014,\n",
       " 'colsample_bytree': 0.44364889457651413,\n",
       " 'gamma': 3.811128976537413e-05,\n",
       " 'learning_rate': 0.2700390206185342,\n",
       " 'max_delta_step': 18,\n",
       " 'max_depth': 36,\n",
       " 'min_child_weight': 4,\n",
       " 'n_estimators': 83,\n",
       " 'reg_alpha': 1.5057560255472018e-06,\n",
       " 'reg_lambda': 659.4262286994368,\n",
       " 'scale_pos_weight': 26,\n",
       " 'subsample': 0.8835665823899177}"
      ]
     },
     "execution_count": 2,
     "metadata": {},
     "output_type": "execute_result"
    }
   ],
   "source": [
    "best_params = read_json_file('HPO/XGB/best_params.json')\n",
    "best_params"
   ]
  },
  {
   "cell_type": "markdown",
   "id": "functioning-legend",
   "metadata": {},
   "source": [
    "## b. LightGBM"
   ]
  },
  {
   "cell_type": "markdown",
   "id": "effective-winter",
   "metadata": {},
   "source": [
    "#### HPO"
   ]
  },
  {
   "cell_type": "code",
   "execution_count": 18,
   "id": "arabic-economics",
   "metadata": {},
   "outputs": [],
   "source": [
    "ITERATIONS = 100\n",
    "\n",
    "bayes_cv_tuner = BayesSearchCV(\n",
    "    estimator = lgb.LGBMClassifier(\n",
    "        n_jobs = 1,\n",
    "        objective = 'binary',\n",
    "        eval_metric = 'auc',\n",
    "        silent=1,\n",
    "        tree_method='approx'\n",
    "    ),\n",
    "    \n",
    "    search_spaces = {\n",
    "        'colsample_bytree': (0.01, 1.0, 'uniform'),\n",
    "        'learning_rate': (0.001, 1.0, 'log-uniform'),\n",
    "        'max_depth': (1, 500),\n",
    "        'max_bin':(50,5000),\n",
    "        'n_estimators': (50, 100),\n",
    "        'reg_lambda': (1e-9, 1000.0, 'log-uniform'),\n",
    "        'reg_alpha': (1e-9, 1.0, 'log-uniform'),\n",
    "        'scale_pos_weight': (1, 100, 'log-uniform'),\n",
    "        'subsample': (0.01, 1.0, 'uniform'),\n",
    "        \"boosting_type\": [\"gbdt\", \"dart\"],\n",
    "        \"num_leaves\": (100, 2000),\n",
    "    },    \n",
    "    scoring = 'roc_auc',\n",
    "    cv = StratifiedKFold(\n",
    "        n_splits=3,\n",
    "        shuffle=True,\n",
    "        random_state=seed\n",
    "    ),\n",
    "    n_jobs = 3,\n",
    "    n_iter = ITERATIONS,   \n",
    "    verbose = 0,\n",
    "    refit = True,\n",
    "    random_state = seed\n",
    ")"
   ]
  },
  {
   "cell_type": "markdown",
   "id": "considered-brunswick",
   "metadata": {},
   "source": [
    "Start finding parameters and save result"
   ]
  },
  {
   "cell_type": "code",
   "execution_count": 187,
   "id": "intelligent-thing",
   "metadata": {},
   "outputs": [],
   "source": [
    "light_gbm_tuned = bayes_cv_tuner.fit(X, y, callback=status_print)\n",
    "save_dict_as_json('HPO/LightGBM/', light_gbm_tuned.best_params_, 'best_params')"
   ]
  },
  {
   "cell_type": "markdown",
   "id": "parental-grant",
   "metadata": {},
   "source": [
    "Load best params found"
   ]
  },
  {
   "cell_type": "code",
   "execution_count": 37,
   "id": "intermediate-voice",
   "metadata": {
    "scrolled": true
   },
   "outputs": [
    {
     "data": {
      "text/plain": [
       "{'boosting_type': 'gbdt',\n",
       " 'colsample_bytree': 0.4194735998017874,\n",
       " 'learning_rate': 0.3713670265402593,\n",
       " 'max_bin': 4761,\n",
       " 'max_depth': 19,\n",
       " 'n_estimators': 60,\n",
       " 'num_leaves': 2000,\n",
       " 'reg_alpha': 1.0,\n",
       " 'reg_lambda': 1000.0,\n",
       " 'scale_pos_weight': 32,\n",
       " 'subsample': 0.7029212166466253}"
      ]
     },
     "execution_count": 37,
     "metadata": {},
     "output_type": "execute_result"
    }
   ],
   "source": [
    "best_params = read_json_file('HPO/LightGBM/best_params.json')\n",
    "best_params"
   ]
  },
  {
   "cell_type": "markdown",
   "id": "caring-accommodation",
   "metadata": {},
   "source": [
    "## c. Random Forest"
   ]
  },
  {
   "cell_type": "code",
   "execution_count": 66,
   "id": "brilliant-theology",
   "metadata": {},
   "outputs": [],
   "source": [
    "ITERATIONS = 100\n",
    "\n",
    "# Classifier\n",
    "bayes_cv_tuner = BayesSearchCV(\n",
    "    estimator = RandomForestClassifier(\n",
    "        n_jobs = -1\n",
    "    ),\n",
    "    search_spaces = {\n",
    "    'min_samples_split': (2, 10), \n",
    "    'n_estimators': (10, 1000),\n",
    "    'max_depth': (3, 100),\n",
    "    'max_features': ['auto', 'sqrt'],\n",
    "    'class_weight': ['balanced', 'balanced_subsample'],\n",
    "    'criterion': ['gini', 'entropy']\n",
    "},    \n",
    "    scoring = 'roc_auc',\n",
    "    cv = StratifiedKFold(\n",
    "        n_splits=3,\n",
    "        shuffle=True,\n",
    "        random_state=seed\n",
    "    ),\n",
    "    n_jobs = 3,\n",
    "    n_iter = ITERATIONS,   \n",
    "    verbose = 0,\n",
    "    refit = True,\n",
    "    random_state = seed\n",
    ")"
   ]
  },
  {
   "cell_type": "code",
   "execution_count": 67,
   "id": "accessible-survey",
   "metadata": {
    "scrolled": true
   },
   "outputs": [
    {
     "name": "stderr",
     "output_type": "stream",
     "text": [
      "F:\\miniconda3\\envs\\lfi\\lib\\site-packages\\sklearn\\utils\\validation.py:931: FutureWarning: Passing attributes to check_is_fitted is deprecated and will be removed in 0.23. The attributes argument is ignored.\n",
      "  warnings.warn(\"Passing attributes to check_is_fitted is deprecated\"\n"
     ]
    },
    {
     "name": "stdout",
     "output_type": "stream",
     "text": [
      "Model #1\n",
      "Best ROC-AUC: 0.7285\n",
      "Best params: OrderedDict([('class_weight', 'balanced'), ('criterion', 'entropy'), ('max_depth', 93), ('max_features', 'auto'), ('min_samples_split', 7), ('n_estimators', 420)])\n",
      "\n"
     ]
    },
    {
     "name": "stderr",
     "output_type": "stream",
     "text": [
      "F:\\miniconda3\\envs\\lfi\\lib\\site-packages\\sklearn\\utils\\validation.py:931: FutureWarning: Passing attributes to check_is_fitted is deprecated and will be removed in 0.23. The attributes argument is ignored.\n",
      "  warnings.warn(\"Passing attributes to check_is_fitted is deprecated\"\n"
     ]
    },
    {
     "name": "stdout",
     "output_type": "stream",
     "text": [
      "Model #2\n",
      "Best ROC-AUC: 0.7391\n",
      "Best params: OrderedDict([('class_weight', 'balanced_subsample'), ('criterion', 'entropy'), ('max_depth', 32), ('max_features', 'sqrt'), ('min_samples_split', 9), ('n_estimators', 72)])\n",
      "\n"
     ]
    },
    {
     "name": "stderr",
     "output_type": "stream",
     "text": [
      "F:\\miniconda3\\envs\\lfi\\lib\\site-packages\\sklearn\\utils\\validation.py:931: FutureWarning: Passing attributes to check_is_fitted is deprecated and will be removed in 0.23. The attributes argument is ignored.\n",
      "  warnings.warn(\"Passing attributes to check_is_fitted is deprecated\"\n"
     ]
    },
    {
     "name": "stdout",
     "output_type": "stream",
     "text": [
      "Model #3\n",
      "Best ROC-AUC: 0.7762\n",
      "Best params: OrderedDict([('class_weight', 'balanced'), ('criterion', 'entropy'), ('max_depth', 13), ('max_features', 'auto'), ('min_samples_split', 4), ('n_estimators', 459)])\n",
      "\n"
     ]
    },
    {
     "name": "stderr",
     "output_type": "stream",
     "text": [
      "F:\\miniconda3\\envs\\lfi\\lib\\site-packages\\sklearn\\utils\\validation.py:931: FutureWarning: Passing attributes to check_is_fitted is deprecated and will be removed in 0.23. The attributes argument is ignored.\n",
      "  warnings.warn(\"Passing attributes to check_is_fitted is deprecated\"\n"
     ]
    },
    {
     "name": "stdout",
     "output_type": "stream",
     "text": [
      "Model #4\n",
      "Best ROC-AUC: 0.7762\n",
      "Best params: OrderedDict([('class_weight', 'balanced'), ('criterion', 'entropy'), ('max_depth', 13), ('max_features', 'auto'), ('min_samples_split', 4), ('n_estimators', 459)])\n",
      "\n"
     ]
    },
    {
     "name": "stderr",
     "output_type": "stream",
     "text": [
      "F:\\miniconda3\\envs\\lfi\\lib\\site-packages\\sklearn\\utils\\validation.py:931: FutureWarning: Passing attributes to check_is_fitted is deprecated and will be removed in 0.23. The attributes argument is ignored.\n",
      "  warnings.warn(\"Passing attributes to check_is_fitted is deprecated\"\n"
     ]
    },
    {
     "name": "stdout",
     "output_type": "stream",
     "text": [
      "Model #5\n",
      "Best ROC-AUC: 0.7762\n",
      "Best params: OrderedDict([('class_weight', 'balanced'), ('criterion', 'entropy'), ('max_depth', 13), ('max_features', 'auto'), ('min_samples_split', 4), ('n_estimators', 459)])\n",
      "\n"
     ]
    },
    {
     "name": "stderr",
     "output_type": "stream",
     "text": [
      "F:\\miniconda3\\envs\\lfi\\lib\\site-packages\\sklearn\\utils\\validation.py:931: FutureWarning: Passing attributes to check_is_fitted is deprecated and will be removed in 0.23. The attributes argument is ignored.\n",
      "  warnings.warn(\"Passing attributes to check_is_fitted is deprecated\"\n"
     ]
    },
    {
     "name": "stdout",
     "output_type": "stream",
     "text": [
      "Model #6\n",
      "Best ROC-AUC: 0.7762\n",
      "Best params: OrderedDict([('class_weight', 'balanced'), ('criterion', 'entropy'), ('max_depth', 13), ('max_features', 'auto'), ('min_samples_split', 4), ('n_estimators', 459)])\n",
      "\n"
     ]
    },
    {
     "name": "stderr",
     "output_type": "stream",
     "text": [
      "F:\\miniconda3\\envs\\lfi\\lib\\site-packages\\sklearn\\utils\\validation.py:931: FutureWarning: Passing attributes to check_is_fitted is deprecated and will be removed in 0.23. The attributes argument is ignored.\n",
      "  warnings.warn(\"Passing attributes to check_is_fitted is deprecated\"\n"
     ]
    },
    {
     "name": "stdout",
     "output_type": "stream",
     "text": [
      "Model #7\n",
      "Best ROC-AUC: 0.7762\n",
      "Best params: OrderedDict([('class_weight', 'balanced'), ('criterion', 'entropy'), ('max_depth', 13), ('max_features', 'auto'), ('min_samples_split', 4), ('n_estimators', 459)])\n",
      "\n"
     ]
    },
    {
     "name": "stderr",
     "output_type": "stream",
     "text": [
      "F:\\miniconda3\\envs\\lfi\\lib\\site-packages\\sklearn\\utils\\validation.py:931: FutureWarning: Passing attributes to check_is_fitted is deprecated and will be removed in 0.23. The attributes argument is ignored.\n",
      "  warnings.warn(\"Passing attributes to check_is_fitted is deprecated\"\n"
     ]
    },
    {
     "name": "stdout",
     "output_type": "stream",
     "text": [
      "Model #8\n",
      "Best ROC-AUC: 0.7762\n",
      "Best params: OrderedDict([('class_weight', 'balanced'), ('criterion', 'entropy'), ('max_depth', 13), ('max_features', 'auto'), ('min_samples_split', 4), ('n_estimators', 459)])\n",
      "\n"
     ]
    },
    {
     "name": "stderr",
     "output_type": "stream",
     "text": [
      "F:\\miniconda3\\envs\\lfi\\lib\\site-packages\\sklearn\\utils\\validation.py:931: FutureWarning: Passing attributes to check_is_fitted is deprecated and will be removed in 0.23. The attributes argument is ignored.\n",
      "  warnings.warn(\"Passing attributes to check_is_fitted is deprecated\"\n"
     ]
    },
    {
     "name": "stdout",
     "output_type": "stream",
     "text": [
      "Model #9\n",
      "Best ROC-AUC: 0.7762\n",
      "Best params: OrderedDict([('class_weight', 'balanced'), ('criterion', 'entropy'), ('max_depth', 13), ('max_features', 'auto'), ('min_samples_split', 4), ('n_estimators', 459)])\n",
      "\n"
     ]
    },
    {
     "name": "stderr",
     "output_type": "stream",
     "text": [
      "F:\\miniconda3\\envs\\lfi\\lib\\site-packages\\sklearn\\utils\\validation.py:931: FutureWarning: Passing attributes to check_is_fitted is deprecated and will be removed in 0.23. The attributes argument is ignored.\n",
      "  warnings.warn(\"Passing attributes to check_is_fitted is deprecated\"\n"
     ]
    },
    {
     "name": "stdout",
     "output_type": "stream",
     "text": [
      "Model #10\n",
      "Best ROC-AUC: 0.7762\n",
      "Best params: OrderedDict([('class_weight', 'balanced'), ('criterion', 'entropy'), ('max_depth', 13), ('max_features', 'auto'), ('min_samples_split', 4), ('n_estimators', 459)])\n",
      "\n"
     ]
    },
    {
     "name": "stderr",
     "output_type": "stream",
     "text": [
      "F:\\miniconda3\\envs\\lfi\\lib\\site-packages\\sklearn\\utils\\validation.py:931: FutureWarning: Passing attributes to check_is_fitted is deprecated and will be removed in 0.23. The attributes argument is ignored.\n",
      "  warnings.warn(\"Passing attributes to check_is_fitted is deprecated\"\n"
     ]
    },
    {
     "name": "stdout",
     "output_type": "stream",
     "text": [
      "Model #11\n",
      "Best ROC-AUC: 0.7762\n",
      "Best params: OrderedDict([('class_weight', 'balanced'), ('criterion', 'entropy'), ('max_depth', 13), ('max_features', 'auto'), ('min_samples_split', 4), ('n_estimators', 459)])\n",
      "\n"
     ]
    },
    {
     "name": "stderr",
     "output_type": "stream",
     "text": [
      "F:\\miniconda3\\envs\\lfi\\lib\\site-packages\\sklearn\\utils\\validation.py:931: FutureWarning: Passing attributes to check_is_fitted is deprecated and will be removed in 0.23. The attributes argument is ignored.\n",
      "  warnings.warn(\"Passing attributes to check_is_fitted is deprecated\"\n"
     ]
    },
    {
     "name": "stdout",
     "output_type": "stream",
     "text": [
      "Model #12\n",
      "Best ROC-AUC: 0.8187\n",
      "Best params: OrderedDict([('class_weight', 'balanced'), ('criterion', 'gini'), ('max_depth', 3), ('max_features', 'auto'), ('min_samples_split', 2), ('n_estimators', 1000)])\n",
      "\n"
     ]
    },
    {
     "name": "stderr",
     "output_type": "stream",
     "text": [
      "F:\\miniconda3\\envs\\lfi\\lib\\site-packages\\sklearn\\utils\\validation.py:931: FutureWarning: Passing attributes to check_is_fitted is deprecated and will be removed in 0.23. The attributes argument is ignored.\n",
      "  warnings.warn(\"Passing attributes to check_is_fitted is deprecated\"\n"
     ]
    },
    {
     "name": "stdout",
     "output_type": "stream",
     "text": [
      "Model #13\n",
      "Best ROC-AUC: 0.8187\n",
      "Best params: OrderedDict([('class_weight', 'balanced_subsample'), ('criterion', 'gini'), ('max_depth', 3), ('max_features', 'auto'), ('min_samples_split', 2), ('n_estimators', 1000)])\n",
      "\n"
     ]
    },
    {
     "name": "stderr",
     "output_type": "stream",
     "text": [
      "F:\\miniconda3\\envs\\lfi\\lib\\site-packages\\sklearn\\utils\\validation.py:931: FutureWarning: Passing attributes to check_is_fitted is deprecated and will be removed in 0.23. The attributes argument is ignored.\n",
      "  warnings.warn(\"Passing attributes to check_is_fitted is deprecated\"\n"
     ]
    },
    {
     "name": "stdout",
     "output_type": "stream",
     "text": [
      "Model #14\n",
      "Best ROC-AUC: 0.8187\n",
      "Best params: OrderedDict([('class_weight', 'balanced_subsample'), ('criterion', 'gini'), ('max_depth', 3), ('max_features', 'auto'), ('min_samples_split', 2), ('n_estimators', 1000)])\n",
      "\n"
     ]
    },
    {
     "name": "stderr",
     "output_type": "stream",
     "text": [
      "F:\\miniconda3\\envs\\lfi\\lib\\site-packages\\sklearn\\utils\\validation.py:931: FutureWarning: Passing attributes to check_is_fitted is deprecated and will be removed in 0.23. The attributes argument is ignored.\n",
      "  warnings.warn(\"Passing attributes to check_is_fitted is deprecated\"\n"
     ]
    },
    {
     "name": "stdout",
     "output_type": "stream",
     "text": [
      "Model #15\n",
      "Best ROC-AUC: 0.8187\n",
      "Best params: OrderedDict([('class_weight', 'balanced_subsample'), ('criterion', 'gini'), ('max_depth', 3), ('max_features', 'auto'), ('min_samples_split', 2), ('n_estimators', 1000)])\n",
      "\n"
     ]
    },
    {
     "name": "stderr",
     "output_type": "stream",
     "text": [
      "F:\\miniconda3\\envs\\lfi\\lib\\site-packages\\sklearn\\utils\\validation.py:931: FutureWarning: Passing attributes to check_is_fitted is deprecated and will be removed in 0.23. The attributes argument is ignored.\n",
      "  warnings.warn(\"Passing attributes to check_is_fitted is deprecated\"\n"
     ]
    },
    {
     "name": "stdout",
     "output_type": "stream",
     "text": [
      "Model #16\n",
      "Best ROC-AUC: 0.8187\n",
      "Best params: OrderedDict([('class_weight', 'balanced_subsample'), ('criterion', 'gini'), ('max_depth', 3), ('max_features', 'auto'), ('min_samples_split', 2), ('n_estimators', 1000)])\n",
      "\n"
     ]
    },
    {
     "name": "stderr",
     "output_type": "stream",
     "text": [
      "F:\\miniconda3\\envs\\lfi\\lib\\site-packages\\sklearn\\utils\\validation.py:931: FutureWarning: Passing attributes to check_is_fitted is deprecated and will be removed in 0.23. The attributes argument is ignored.\n",
      "  warnings.warn(\"Passing attributes to check_is_fitted is deprecated\"\n"
     ]
    },
    {
     "name": "stdout",
     "output_type": "stream",
     "text": [
      "Model #17\n",
      "Best ROC-AUC: 0.8187\n",
      "Best params: OrderedDict([('class_weight', 'balanced_subsample'), ('criterion', 'gini'), ('max_depth', 3), ('max_features', 'auto'), ('min_samples_split', 2), ('n_estimators', 1000)])\n",
      "\n"
     ]
    },
    {
     "name": "stderr",
     "output_type": "stream",
     "text": [
      "F:\\miniconda3\\envs\\lfi\\lib\\site-packages\\sklearn\\utils\\validation.py:931: FutureWarning: Passing attributes to check_is_fitted is deprecated and will be removed in 0.23. The attributes argument is ignored.\n",
      "  warnings.warn(\"Passing attributes to check_is_fitted is deprecated\"\n"
     ]
    },
    {
     "name": "stdout",
     "output_type": "stream",
     "text": [
      "Model #18\n",
      "Best ROC-AUC: 0.8192\n",
      "Best params: OrderedDict([('class_weight', 'balanced'), ('criterion', 'entropy'), ('max_depth', 3), ('max_features', 'sqrt'), ('min_samples_split', 2), ('n_estimators', 1000)])\n",
      "\n"
     ]
    },
    {
     "name": "stderr",
     "output_type": "stream",
     "text": [
      "F:\\miniconda3\\envs\\lfi\\lib\\site-packages\\sklearn\\utils\\validation.py:931: FutureWarning: Passing attributes to check_is_fitted is deprecated and will be removed in 0.23. The attributes argument is ignored.\n",
      "  warnings.warn(\"Passing attributes to check_is_fitted is deprecated\"\n"
     ]
    },
    {
     "name": "stdout",
     "output_type": "stream",
     "text": [
      "Model #19\n",
      "Best ROC-AUC: 0.8192\n",
      "Best params: OrderedDict([('class_weight', 'balanced'), ('criterion', 'entropy'), ('max_depth', 3), ('max_features', 'sqrt'), ('min_samples_split', 2), ('n_estimators', 1000)])\n",
      "\n"
     ]
    },
    {
     "name": "stderr",
     "output_type": "stream",
     "text": [
      "F:\\miniconda3\\envs\\lfi\\lib\\site-packages\\sklearn\\utils\\validation.py:931: FutureWarning: Passing attributes to check_is_fitted is deprecated and will be removed in 0.23. The attributes argument is ignored.\n",
      "  warnings.warn(\"Passing attributes to check_is_fitted is deprecated\"\n"
     ]
    },
    {
     "name": "stdout",
     "output_type": "stream",
     "text": [
      "Model #20\n",
      "Best ROC-AUC: 0.8192\n",
      "Best params: OrderedDict([('class_weight', 'balanced'), ('criterion', 'entropy'), ('max_depth', 3), ('max_features', 'sqrt'), ('min_samples_split', 2), ('n_estimators', 1000)])\n",
      "\n"
     ]
    },
    {
     "name": "stderr",
     "output_type": "stream",
     "text": [
      "F:\\miniconda3\\envs\\lfi\\lib\\site-packages\\skopt\\optimizer\\optimizer.py:409: UserWarning: The objective has been evaluated at this point before.\n",
      "  warnings.warn(\"The objective has been evaluated \"\n",
      "F:\\miniconda3\\envs\\lfi\\lib\\site-packages\\sklearn\\utils\\validation.py:931: FutureWarning: Passing attributes to check_is_fitted is deprecated and will be removed in 0.23. The attributes argument is ignored.\n",
      "  warnings.warn(\"Passing attributes to check_is_fitted is deprecated\"\n"
     ]
    },
    {
     "name": "stdout",
     "output_type": "stream",
     "text": [
      "Model #21\n",
      "Best ROC-AUC: 0.8192\n",
      "Best params: OrderedDict([('class_weight', 'balanced'), ('criterion', 'entropy'), ('max_depth', 3), ('max_features', 'sqrt'), ('min_samples_split', 2), ('n_estimators', 1000)])\n",
      "\n"
     ]
    },
    {
     "name": "stderr",
     "output_type": "stream",
     "text": [
      "F:\\miniconda3\\envs\\lfi\\lib\\site-packages\\sklearn\\utils\\validation.py:931: FutureWarning: Passing attributes to check_is_fitted is deprecated and will be removed in 0.23. The attributes argument is ignored.\n",
      "  warnings.warn(\"Passing attributes to check_is_fitted is deprecated\"\n"
     ]
    },
    {
     "name": "stdout",
     "output_type": "stream",
     "text": [
      "Model #22\n",
      "Best ROC-AUC: 0.8192\n",
      "Best params: OrderedDict([('class_weight', 'balanced'), ('criterion', 'entropy'), ('max_depth', 3), ('max_features', 'sqrt'), ('min_samples_split', 2), ('n_estimators', 1000)])\n",
      "\n"
     ]
    },
    {
     "name": "stderr",
     "output_type": "stream",
     "text": [
      "F:\\miniconda3\\envs\\lfi\\lib\\site-packages\\sklearn\\utils\\validation.py:931: FutureWarning: Passing attributes to check_is_fitted is deprecated and will be removed in 0.23. The attributes argument is ignored.\n",
      "  warnings.warn(\"Passing attributes to check_is_fitted is deprecated\"\n"
     ]
    },
    {
     "name": "stdout",
     "output_type": "stream",
     "text": [
      "Model #23\n",
      "Best ROC-AUC: 0.8192\n",
      "Best params: OrderedDict([('class_weight', 'balanced'), ('criterion', 'entropy'), ('max_depth', 3), ('max_features', 'sqrt'), ('min_samples_split', 2), ('n_estimators', 1000)])\n",
      "\n"
     ]
    },
    {
     "name": "stderr",
     "output_type": "stream",
     "text": [
      "F:\\miniconda3\\envs\\lfi\\lib\\site-packages\\sklearn\\utils\\validation.py:931: FutureWarning: Passing attributes to check_is_fitted is deprecated and will be removed in 0.23. The attributes argument is ignored.\n",
      "  warnings.warn(\"Passing attributes to check_is_fitted is deprecated\"\n"
     ]
    },
    {
     "name": "stdout",
     "output_type": "stream",
     "text": [
      "Model #24\n",
      "Best ROC-AUC: 0.8192\n",
      "Best params: OrderedDict([('class_weight', 'balanced'), ('criterion', 'entropy'), ('max_depth', 3), ('max_features', 'sqrt'), ('min_samples_split', 2), ('n_estimators', 1000)])\n",
      "\n"
     ]
    },
    {
     "name": "stderr",
     "output_type": "stream",
     "text": [
      "F:\\miniconda3\\envs\\lfi\\lib\\site-packages\\sklearn\\utils\\validation.py:931: FutureWarning: Passing attributes to check_is_fitted is deprecated and will be removed in 0.23. The attributes argument is ignored.\n",
      "  warnings.warn(\"Passing attributes to check_is_fitted is deprecated\"\n"
     ]
    },
    {
     "name": "stdout",
     "output_type": "stream",
     "text": [
      "Model #25\n",
      "Best ROC-AUC: 0.8203\n",
      "Best params: OrderedDict([('class_weight', 'balanced_subsample'), ('criterion', 'gini'), ('max_depth', 5), ('max_features', 'auto'), ('min_samples_split', 5), ('n_estimators', 1000)])\n",
      "\n"
     ]
    },
    {
     "name": "stderr",
     "output_type": "stream",
     "text": [
      "F:\\miniconda3\\envs\\lfi\\lib\\site-packages\\sklearn\\utils\\validation.py:931: FutureWarning: Passing attributes to check_is_fitted is deprecated and will be removed in 0.23. The attributes argument is ignored.\n",
      "  warnings.warn(\"Passing attributes to check_is_fitted is deprecated\"\n"
     ]
    },
    {
     "name": "stdout",
     "output_type": "stream",
     "text": [
      "Model #26\n",
      "Best ROC-AUC: 0.8203\n",
      "Best params: OrderedDict([('class_weight', 'balanced_subsample'), ('criterion', 'gini'), ('max_depth', 5), ('max_features', 'auto'), ('min_samples_split', 5), ('n_estimators', 1000)])\n",
      "\n"
     ]
    },
    {
     "name": "stderr",
     "output_type": "stream",
     "text": [
      "F:\\miniconda3\\envs\\lfi\\lib\\site-packages\\sklearn\\utils\\validation.py:931: FutureWarning: Passing attributes to check_is_fitted is deprecated and will be removed in 0.23. The attributes argument is ignored.\n",
      "  warnings.warn(\"Passing attributes to check_is_fitted is deprecated\"\n"
     ]
    },
    {
     "name": "stdout",
     "output_type": "stream",
     "text": [
      "Model #27\n",
      "Best ROC-AUC: 0.8203\n",
      "Best params: OrderedDict([('class_weight', 'balanced_subsample'), ('criterion', 'gini'), ('max_depth', 5), ('max_features', 'auto'), ('min_samples_split', 5), ('n_estimators', 1000)])\n",
      "\n"
     ]
    },
    {
     "name": "stderr",
     "output_type": "stream",
     "text": [
      "F:\\miniconda3\\envs\\lfi\\lib\\site-packages\\sklearn\\utils\\validation.py:931: FutureWarning: Passing attributes to check_is_fitted is deprecated and will be removed in 0.23. The attributes argument is ignored.\n",
      "  warnings.warn(\"Passing attributes to check_is_fitted is deprecated\"\n"
     ]
    },
    {
     "name": "stdout",
     "output_type": "stream",
     "text": [
      "Model #28\n",
      "Best ROC-AUC: 0.8203\n",
      "Best params: OrderedDict([('class_weight', 'balanced_subsample'), ('criterion', 'gini'), ('max_depth', 5), ('max_features', 'auto'), ('min_samples_split', 5), ('n_estimators', 1000)])\n",
      "\n"
     ]
    },
    {
     "name": "stderr",
     "output_type": "stream",
     "text": [
      "F:\\miniconda3\\envs\\lfi\\lib\\site-packages\\sklearn\\utils\\validation.py:931: FutureWarning: Passing attributes to check_is_fitted is deprecated and will be removed in 0.23. The attributes argument is ignored.\n",
      "  warnings.warn(\"Passing attributes to check_is_fitted is deprecated\"\n"
     ]
    },
    {
     "name": "stdout",
     "output_type": "stream",
     "text": [
      "Model #29\n",
      "Best ROC-AUC: 0.8203\n",
      "Best params: OrderedDict([('class_weight', 'balanced_subsample'), ('criterion', 'gini'), ('max_depth', 5), ('max_features', 'auto'), ('min_samples_split', 5), ('n_estimators', 1000)])\n",
      "\n"
     ]
    },
    {
     "name": "stderr",
     "output_type": "stream",
     "text": [
      "F:\\miniconda3\\envs\\lfi\\lib\\site-packages\\sklearn\\utils\\validation.py:931: FutureWarning: Passing attributes to check_is_fitted is deprecated and will be removed in 0.23. The attributes argument is ignored.\n",
      "  warnings.warn(\"Passing attributes to check_is_fitted is deprecated\"\n"
     ]
    },
    {
     "name": "stdout",
     "output_type": "stream",
     "text": [
      "Model #30\n",
      "Best ROC-AUC: 0.8203\n",
      "Best params: OrderedDict([('class_weight', 'balanced_subsample'), ('criterion', 'gini'), ('max_depth', 5), ('max_features', 'auto'), ('min_samples_split', 5), ('n_estimators', 1000)])\n",
      "\n"
     ]
    },
    {
     "name": "stderr",
     "output_type": "stream",
     "text": [
      "F:\\miniconda3\\envs\\lfi\\lib\\site-packages\\sklearn\\utils\\validation.py:931: FutureWarning: Passing attributes to check_is_fitted is deprecated and will be removed in 0.23. The attributes argument is ignored.\n",
      "  warnings.warn(\"Passing attributes to check_is_fitted is deprecated\"\n"
     ]
    },
    {
     "name": "stdout",
     "output_type": "stream",
     "text": [
      "Model #31\n",
      "Best ROC-AUC: 0.8203\n",
      "Best params: OrderedDict([('class_weight', 'balanced_subsample'), ('criterion', 'gini'), ('max_depth', 5), ('max_features', 'auto'), ('min_samples_split', 5), ('n_estimators', 1000)])\n",
      "\n"
     ]
    },
    {
     "name": "stderr",
     "output_type": "stream",
     "text": [
      "F:\\miniconda3\\envs\\lfi\\lib\\site-packages\\sklearn\\utils\\validation.py:931: FutureWarning: Passing attributes to check_is_fitted is deprecated and will be removed in 0.23. The attributes argument is ignored.\n",
      "  warnings.warn(\"Passing attributes to check_is_fitted is deprecated\"\n"
     ]
    },
    {
     "name": "stdout",
     "output_type": "stream",
     "text": [
      "Model #32\n",
      "Best ROC-AUC: 0.8203\n",
      "Best params: OrderedDict([('class_weight', 'balanced_subsample'), ('criterion', 'gini'), ('max_depth', 5), ('max_features', 'auto'), ('min_samples_split', 5), ('n_estimators', 1000)])\n",
      "\n"
     ]
    },
    {
     "name": "stderr",
     "output_type": "stream",
     "text": [
      "F:\\miniconda3\\envs\\lfi\\lib\\site-packages\\sklearn\\utils\\validation.py:931: FutureWarning: Passing attributes to check_is_fitted is deprecated and will be removed in 0.23. The attributes argument is ignored.\n",
      "  warnings.warn(\"Passing attributes to check_is_fitted is deprecated\"\n"
     ]
    },
    {
     "name": "stdout",
     "output_type": "stream",
     "text": [
      "Model #33\n",
      "Best ROC-AUC: 0.8203\n",
      "Best params: OrderedDict([('class_weight', 'balanced_subsample'), ('criterion', 'gini'), ('max_depth', 5), ('max_features', 'auto'), ('min_samples_split', 5), ('n_estimators', 1000)])\n",
      "\n"
     ]
    },
    {
     "name": "stderr",
     "output_type": "stream",
     "text": [
      "F:\\miniconda3\\envs\\lfi\\lib\\site-packages\\sklearn\\utils\\validation.py:931: FutureWarning: Passing attributes to check_is_fitted is deprecated and will be removed in 0.23. The attributes argument is ignored.\n",
      "  warnings.warn(\"Passing attributes to check_is_fitted is deprecated\"\n"
     ]
    },
    {
     "name": "stdout",
     "output_type": "stream",
     "text": [
      "Model #34\n",
      "Best ROC-AUC: 0.8203\n",
      "Best params: OrderedDict([('class_weight', 'balanced_subsample'), ('criterion', 'gini'), ('max_depth', 5), ('max_features', 'auto'), ('min_samples_split', 5), ('n_estimators', 1000)])\n",
      "\n"
     ]
    },
    {
     "name": "stderr",
     "output_type": "stream",
     "text": [
      "F:\\miniconda3\\envs\\lfi\\lib\\site-packages\\sklearn\\utils\\validation.py:931: FutureWarning: Passing attributes to check_is_fitted is deprecated and will be removed in 0.23. The attributes argument is ignored.\n",
      "  warnings.warn(\"Passing attributes to check_is_fitted is deprecated\"\n"
     ]
    },
    {
     "name": "stdout",
     "output_type": "stream",
     "text": [
      "Model #35\n",
      "Best ROC-AUC: 0.8203\n",
      "Best params: OrderedDict([('class_weight', 'balanced_subsample'), ('criterion', 'gini'), ('max_depth', 5), ('max_features', 'auto'), ('min_samples_split', 5), ('n_estimators', 1000)])\n",
      "\n"
     ]
    },
    {
     "name": "stderr",
     "output_type": "stream",
     "text": [
      "F:\\miniconda3\\envs\\lfi\\lib\\site-packages\\sklearn\\utils\\validation.py:931: FutureWarning: Passing attributes to check_is_fitted is deprecated and will be removed in 0.23. The attributes argument is ignored.\n",
      "  warnings.warn(\"Passing attributes to check_is_fitted is deprecated\"\n"
     ]
    },
    {
     "name": "stdout",
     "output_type": "stream",
     "text": [
      "Model #36\n",
      "Best ROC-AUC: 0.8203\n",
      "Best params: OrderedDict([('class_weight', 'balanced_subsample'), ('criterion', 'gini'), ('max_depth', 5), ('max_features', 'auto'), ('min_samples_split', 5), ('n_estimators', 1000)])\n",
      "\n"
     ]
    },
    {
     "name": "stderr",
     "output_type": "stream",
     "text": [
      "F:\\miniconda3\\envs\\lfi\\lib\\site-packages\\sklearn\\utils\\validation.py:931: FutureWarning: Passing attributes to check_is_fitted is deprecated and will be removed in 0.23. The attributes argument is ignored.\n",
      "  warnings.warn(\"Passing attributes to check_is_fitted is deprecated\"\n"
     ]
    },
    {
     "name": "stdout",
     "output_type": "stream",
     "text": [
      "Model #37\n",
      "Best ROC-AUC: 0.8203\n",
      "Best params: OrderedDict([('class_weight', 'balanced_subsample'), ('criterion', 'gini'), ('max_depth', 5), ('max_features', 'auto'), ('min_samples_split', 5), ('n_estimators', 1000)])\n",
      "\n"
     ]
    },
    {
     "name": "stderr",
     "output_type": "stream",
     "text": [
      "F:\\miniconda3\\envs\\lfi\\lib\\site-packages\\sklearn\\utils\\validation.py:931: FutureWarning: Passing attributes to check_is_fitted is deprecated and will be removed in 0.23. The attributes argument is ignored.\n",
      "  warnings.warn(\"Passing attributes to check_is_fitted is deprecated\"\n"
     ]
    },
    {
     "name": "stdout",
     "output_type": "stream",
     "text": [
      "Model #38\n",
      "Best ROC-AUC: 0.8211\n",
      "Best params: OrderedDict([('class_weight', 'balanced_subsample'), ('criterion', 'entropy'), ('max_depth', 4), ('max_features', 'auto'), ('min_samples_split', 9), ('n_estimators', 1000)])\n",
      "\n"
     ]
    },
    {
     "name": "stderr",
     "output_type": "stream",
     "text": [
      "F:\\miniconda3\\envs\\lfi\\lib\\site-packages\\sklearn\\utils\\validation.py:931: FutureWarning: Passing attributes to check_is_fitted is deprecated and will be removed in 0.23. The attributes argument is ignored.\n",
      "  warnings.warn(\"Passing attributes to check_is_fitted is deprecated\"\n"
     ]
    },
    {
     "name": "stdout",
     "output_type": "stream",
     "text": [
      "Model #39\n",
      "Best ROC-AUC: 0.8211\n",
      "Best params: OrderedDict([('class_weight', 'balanced_subsample'), ('criterion', 'entropy'), ('max_depth', 4), ('max_features', 'auto'), ('min_samples_split', 9), ('n_estimators', 1000)])\n",
      "\n"
     ]
    },
    {
     "name": "stderr",
     "output_type": "stream",
     "text": [
      "F:\\miniconda3\\envs\\lfi\\lib\\site-packages\\sklearn\\utils\\validation.py:931: FutureWarning: Passing attributes to check_is_fitted is deprecated and will be removed in 0.23. The attributes argument is ignored.\n",
      "  warnings.warn(\"Passing attributes to check_is_fitted is deprecated\"\n"
     ]
    },
    {
     "name": "stdout",
     "output_type": "stream",
     "text": [
      "Model #40\n",
      "Best ROC-AUC: 0.8211\n",
      "Best params: OrderedDict([('class_weight', 'balanced_subsample'), ('criterion', 'entropy'), ('max_depth', 4), ('max_features', 'auto'), ('min_samples_split', 9), ('n_estimators', 1000)])\n",
      "\n"
     ]
    },
    {
     "name": "stderr",
     "output_type": "stream",
     "text": [
      "F:\\miniconda3\\envs\\lfi\\lib\\site-packages\\sklearn\\utils\\validation.py:931: FutureWarning: Passing attributes to check_is_fitted is deprecated and will be removed in 0.23. The attributes argument is ignored.\n",
      "  warnings.warn(\"Passing attributes to check_is_fitted is deprecated\"\n"
     ]
    },
    {
     "name": "stdout",
     "output_type": "stream",
     "text": [
      "Model #41\n",
      "Best ROC-AUC: 0.8211\n",
      "Best params: OrderedDict([('class_weight', 'balanced_subsample'), ('criterion', 'entropy'), ('max_depth', 4), ('max_features', 'auto'), ('min_samples_split', 9), ('n_estimators', 1000)])\n",
      "\n"
     ]
    },
    {
     "name": "stderr",
     "output_type": "stream",
     "text": [
      "F:\\miniconda3\\envs\\lfi\\lib\\site-packages\\sklearn\\utils\\validation.py:931: FutureWarning: Passing attributes to check_is_fitted is deprecated and will be removed in 0.23. The attributes argument is ignored.\n",
      "  warnings.warn(\"Passing attributes to check_is_fitted is deprecated\"\n"
     ]
    },
    {
     "name": "stdout",
     "output_type": "stream",
     "text": [
      "Model #42\n",
      "Best ROC-AUC: 0.8211\n",
      "Best params: OrderedDict([('class_weight', 'balanced_subsample'), ('criterion', 'entropy'), ('max_depth', 4), ('max_features', 'auto'), ('min_samples_split', 9), ('n_estimators', 1000)])\n",
      "\n"
     ]
    },
    {
     "name": "stderr",
     "output_type": "stream",
     "text": [
      "F:\\miniconda3\\envs\\lfi\\lib\\site-packages\\sklearn\\utils\\validation.py:931: FutureWarning: Passing attributes to check_is_fitted is deprecated and will be removed in 0.23. The attributes argument is ignored.\n",
      "  warnings.warn(\"Passing attributes to check_is_fitted is deprecated\"\n"
     ]
    },
    {
     "name": "stdout",
     "output_type": "stream",
     "text": [
      "Model #43\n",
      "Best ROC-AUC: 0.8211\n",
      "Best params: OrderedDict([('class_weight', 'balanced_subsample'), ('criterion', 'entropy'), ('max_depth', 4), ('max_features', 'auto'), ('min_samples_split', 9), ('n_estimators', 1000)])\n",
      "\n"
     ]
    },
    {
     "name": "stderr",
     "output_type": "stream",
     "text": [
      "F:\\miniconda3\\envs\\lfi\\lib\\site-packages\\sklearn\\utils\\validation.py:931: FutureWarning: Passing attributes to check_is_fitted is deprecated and will be removed in 0.23. The attributes argument is ignored.\n",
      "  warnings.warn(\"Passing attributes to check_is_fitted is deprecated\"\n"
     ]
    },
    {
     "name": "stdout",
     "output_type": "stream",
     "text": [
      "Model #44\n",
      "Best ROC-AUC: 0.8212\n",
      "Best params: OrderedDict([('class_weight', 'balanced_subsample'), ('criterion', 'entropy'), ('max_depth', 4), ('max_features', 'sqrt'), ('min_samples_split', 9), ('n_estimators', 1000)])\n",
      "\n"
     ]
    },
    {
     "name": "stderr",
     "output_type": "stream",
     "text": [
      "F:\\miniconda3\\envs\\lfi\\lib\\site-packages\\sklearn\\utils\\validation.py:931: FutureWarning: Passing attributes to check_is_fitted is deprecated and will be removed in 0.23. The attributes argument is ignored.\n",
      "  warnings.warn(\"Passing attributes to check_is_fitted is deprecated\"\n"
     ]
    },
    {
     "name": "stdout",
     "output_type": "stream",
     "text": [
      "Model #45\n",
      "Best ROC-AUC: 0.8212\n",
      "Best params: OrderedDict([('class_weight', 'balanced_subsample'), ('criterion', 'entropy'), ('max_depth', 4), ('max_features', 'sqrt'), ('min_samples_split', 9), ('n_estimators', 1000)])\n",
      "\n"
     ]
    },
    {
     "name": "stderr",
     "output_type": "stream",
     "text": [
      "F:\\miniconda3\\envs\\lfi\\lib\\site-packages\\sklearn\\utils\\validation.py:931: FutureWarning: Passing attributes to check_is_fitted is deprecated and will be removed in 0.23. The attributes argument is ignored.\n",
      "  warnings.warn(\"Passing attributes to check_is_fitted is deprecated\"\n"
     ]
    },
    {
     "name": "stdout",
     "output_type": "stream",
     "text": [
      "Model #46\n",
      "Best ROC-AUC: 0.8212\n",
      "Best params: OrderedDict([('class_weight', 'balanced_subsample'), ('criterion', 'entropy'), ('max_depth', 4), ('max_features', 'sqrt'), ('min_samples_split', 9), ('n_estimators', 1000)])\n",
      "\n"
     ]
    },
    {
     "name": "stderr",
     "output_type": "stream",
     "text": [
      "F:\\miniconda3\\envs\\lfi\\lib\\site-packages\\sklearn\\utils\\validation.py:931: FutureWarning: Passing attributes to check_is_fitted is deprecated and will be removed in 0.23. The attributes argument is ignored.\n",
      "  warnings.warn(\"Passing attributes to check_is_fitted is deprecated\"\n"
     ]
    },
    {
     "name": "stdout",
     "output_type": "stream",
     "text": [
      "Model #47\n",
      "Best ROC-AUC: 0.8212\n",
      "Best params: OrderedDict([('class_weight', 'balanced_subsample'), ('criterion', 'entropy'), ('max_depth', 4), ('max_features', 'sqrt'), ('min_samples_split', 9), ('n_estimators', 1000)])\n",
      "\n"
     ]
    },
    {
     "name": "stderr",
     "output_type": "stream",
     "text": [
      "F:\\miniconda3\\envs\\lfi\\lib\\site-packages\\sklearn\\utils\\validation.py:931: FutureWarning: Passing attributes to check_is_fitted is deprecated and will be removed in 0.23. The attributes argument is ignored.\n",
      "  warnings.warn(\"Passing attributes to check_is_fitted is deprecated\"\n"
     ]
    },
    {
     "name": "stdout",
     "output_type": "stream",
     "text": [
      "Model #48\n",
      "Best ROC-AUC: 0.8212\n",
      "Best params: OrderedDict([('class_weight', 'balanced_subsample'), ('criterion', 'entropy'), ('max_depth', 4), ('max_features', 'sqrt'), ('min_samples_split', 9), ('n_estimators', 1000)])\n",
      "\n"
     ]
    },
    {
     "name": "stderr",
     "output_type": "stream",
     "text": [
      "F:\\miniconda3\\envs\\lfi\\lib\\site-packages\\sklearn\\utils\\validation.py:931: FutureWarning: Passing attributes to check_is_fitted is deprecated and will be removed in 0.23. The attributes argument is ignored.\n",
      "  warnings.warn(\"Passing attributes to check_is_fitted is deprecated\"\n"
     ]
    },
    {
     "name": "stdout",
     "output_type": "stream",
     "text": [
      "Model #49\n",
      "Best ROC-AUC: 0.8212\n",
      "Best params: OrderedDict([('class_weight', 'balanced_subsample'), ('criterion', 'entropy'), ('max_depth', 4), ('max_features', 'sqrt'), ('min_samples_split', 9), ('n_estimators', 1000)])\n",
      "\n"
     ]
    },
    {
     "name": "stderr",
     "output_type": "stream",
     "text": [
      "F:\\miniconda3\\envs\\lfi\\lib\\site-packages\\sklearn\\utils\\validation.py:931: FutureWarning: Passing attributes to check_is_fitted is deprecated and will be removed in 0.23. The attributes argument is ignored.\n",
      "  warnings.warn(\"Passing attributes to check_is_fitted is deprecated\"\n"
     ]
    },
    {
     "name": "stdout",
     "output_type": "stream",
     "text": [
      "Model #50\n",
      "Best ROC-AUC: 0.8212\n",
      "Best params: OrderedDict([('class_weight', 'balanced_subsample'), ('criterion', 'entropy'), ('max_depth', 4), ('max_features', 'sqrt'), ('min_samples_split', 9), ('n_estimators', 1000)])\n",
      "\n"
     ]
    },
    {
     "name": "stderr",
     "output_type": "stream",
     "text": [
      "F:\\miniconda3\\envs\\lfi\\lib\\site-packages\\sklearn\\utils\\validation.py:931: FutureWarning: Passing attributes to check_is_fitted is deprecated and will be removed in 0.23. The attributes argument is ignored.\n",
      "  warnings.warn(\"Passing attributes to check_is_fitted is deprecated\"\n"
     ]
    },
    {
     "name": "stdout",
     "output_type": "stream",
     "text": [
      "Model #51\n",
      "Best ROC-AUC: 0.8212\n",
      "Best params: OrderedDict([('class_weight', 'balanced_subsample'), ('criterion', 'entropy'), ('max_depth', 4), ('max_features', 'sqrt'), ('min_samples_split', 9), ('n_estimators', 1000)])\n",
      "\n"
     ]
    },
    {
     "name": "stderr",
     "output_type": "stream",
     "text": [
      "F:\\miniconda3\\envs\\lfi\\lib\\site-packages\\sklearn\\utils\\validation.py:931: FutureWarning: Passing attributes to check_is_fitted is deprecated and will be removed in 0.23. The attributes argument is ignored.\n",
      "  warnings.warn(\"Passing attributes to check_is_fitted is deprecated\"\n"
     ]
    },
    {
     "name": "stdout",
     "output_type": "stream",
     "text": [
      "Model #52\n",
      "Best ROC-AUC: 0.8212\n",
      "Best params: OrderedDict([('class_weight', 'balanced_subsample'), ('criterion', 'entropy'), ('max_depth', 4), ('max_features', 'sqrt'), ('min_samples_split', 9), ('n_estimators', 1000)])\n",
      "\n"
     ]
    },
    {
     "name": "stderr",
     "output_type": "stream",
     "text": [
      "F:\\miniconda3\\envs\\lfi\\lib\\site-packages\\sklearn\\utils\\validation.py:931: FutureWarning: Passing attributes to check_is_fitted is deprecated and will be removed in 0.23. The attributes argument is ignored.\n",
      "  warnings.warn(\"Passing attributes to check_is_fitted is deprecated\"\n"
     ]
    },
    {
     "name": "stdout",
     "output_type": "stream",
     "text": [
      "Model #53\n",
      "Best ROC-AUC: 0.8212\n",
      "Best params: OrderedDict([('class_weight', 'balanced_subsample'), ('criterion', 'entropy'), ('max_depth', 4), ('max_features', 'sqrt'), ('min_samples_split', 9), ('n_estimators', 1000)])\n",
      "\n"
     ]
    },
    {
     "name": "stderr",
     "output_type": "stream",
     "text": [
      "F:\\miniconda3\\envs\\lfi\\lib\\site-packages\\sklearn\\utils\\validation.py:931: FutureWarning: Passing attributes to check_is_fitted is deprecated and will be removed in 0.23. The attributes argument is ignored.\n",
      "  warnings.warn(\"Passing attributes to check_is_fitted is deprecated\"\n"
     ]
    },
    {
     "name": "stdout",
     "output_type": "stream",
     "text": [
      "Model #54\n",
      "Best ROC-AUC: 0.8212\n",
      "Best params: OrderedDict([('class_weight', 'balanced_subsample'), ('criterion', 'entropy'), ('max_depth', 4), ('max_features', 'sqrt'), ('min_samples_split', 9), ('n_estimators', 1000)])\n",
      "\n"
     ]
    },
    {
     "name": "stderr",
     "output_type": "stream",
     "text": [
      "F:\\miniconda3\\envs\\lfi\\lib\\site-packages\\sklearn\\utils\\validation.py:931: FutureWarning: Passing attributes to check_is_fitted is deprecated and will be removed in 0.23. The attributes argument is ignored.\n",
      "  warnings.warn(\"Passing attributes to check_is_fitted is deprecated\"\n"
     ]
    },
    {
     "name": "stdout",
     "output_type": "stream",
     "text": [
      "Model #55\n",
      "Best ROC-AUC: 0.8212\n",
      "Best params: OrderedDict([('class_weight', 'balanced_subsample'), ('criterion', 'entropy'), ('max_depth', 4), ('max_features', 'sqrt'), ('min_samples_split', 9), ('n_estimators', 1000)])\n",
      "\n"
     ]
    },
    {
     "name": "stderr",
     "output_type": "stream",
     "text": [
      "F:\\miniconda3\\envs\\lfi\\lib\\site-packages\\sklearn\\utils\\validation.py:931: FutureWarning: Passing attributes to check_is_fitted is deprecated and will be removed in 0.23. The attributes argument is ignored.\n",
      "  warnings.warn(\"Passing attributes to check_is_fitted is deprecated\"\n"
     ]
    },
    {
     "name": "stdout",
     "output_type": "stream",
     "text": [
      "Model #56\n",
      "Best ROC-AUC: 0.8212\n",
      "Best params: OrderedDict([('class_weight', 'balanced_subsample'), ('criterion', 'entropy'), ('max_depth', 4), ('max_features', 'sqrt'), ('min_samples_split', 9), ('n_estimators', 1000)])\n",
      "\n"
     ]
    },
    {
     "name": "stderr",
     "output_type": "stream",
     "text": [
      "F:\\miniconda3\\envs\\lfi\\lib\\site-packages\\sklearn\\utils\\validation.py:931: FutureWarning: Passing attributes to check_is_fitted is deprecated and will be removed in 0.23. The attributes argument is ignored.\n",
      "  warnings.warn(\"Passing attributes to check_is_fitted is deprecated\"\n"
     ]
    },
    {
     "name": "stdout",
     "output_type": "stream",
     "text": [
      "Model #57\n",
      "Best ROC-AUC: 0.8212\n",
      "Best params: OrderedDict([('class_weight', 'balanced_subsample'), ('criterion', 'entropy'), ('max_depth', 4), ('max_features', 'sqrt'), ('min_samples_split', 9), ('n_estimators', 1000)])\n",
      "\n"
     ]
    },
    {
     "name": "stderr",
     "output_type": "stream",
     "text": [
      "F:\\miniconda3\\envs\\lfi\\lib\\site-packages\\sklearn\\utils\\validation.py:931: FutureWarning: Passing attributes to check_is_fitted is deprecated and will be removed in 0.23. The attributes argument is ignored.\n",
      "  warnings.warn(\"Passing attributes to check_is_fitted is deprecated\"\n"
     ]
    },
    {
     "name": "stdout",
     "output_type": "stream",
     "text": [
      "Model #58\n",
      "Best ROC-AUC: 0.8212\n",
      "Best params: OrderedDict([('class_weight', 'balanced_subsample'), ('criterion', 'entropy'), ('max_depth', 4), ('max_features', 'sqrt'), ('min_samples_split', 9), ('n_estimators', 1000)])\n",
      "\n"
     ]
    },
    {
     "name": "stderr",
     "output_type": "stream",
     "text": [
      "F:\\miniconda3\\envs\\lfi\\lib\\site-packages\\sklearn\\utils\\validation.py:931: FutureWarning: Passing attributes to check_is_fitted is deprecated and will be removed in 0.23. The attributes argument is ignored.\n",
      "  warnings.warn(\"Passing attributes to check_is_fitted is deprecated\"\n"
     ]
    },
    {
     "name": "stdout",
     "output_type": "stream",
     "text": [
      "Model #59\n",
      "Best ROC-AUC: 0.8212\n",
      "Best params: OrderedDict([('class_weight', 'balanced_subsample'), ('criterion', 'entropy'), ('max_depth', 4), ('max_features', 'sqrt'), ('min_samples_split', 9), ('n_estimators', 1000)])\n",
      "\n"
     ]
    },
    {
     "name": "stderr",
     "output_type": "stream",
     "text": [
      "F:\\miniconda3\\envs\\lfi\\lib\\site-packages\\sklearn\\utils\\validation.py:931: FutureWarning: Passing attributes to check_is_fitted is deprecated and will be removed in 0.23. The attributes argument is ignored.\n",
      "  warnings.warn(\"Passing attributes to check_is_fitted is deprecated\"\n"
     ]
    },
    {
     "name": "stdout",
     "output_type": "stream",
     "text": [
      "Model #60\n",
      "Best ROC-AUC: 0.8212\n",
      "Best params: OrderedDict([('class_weight', 'balanced_subsample'), ('criterion', 'entropy'), ('max_depth', 4), ('max_features', 'sqrt'), ('min_samples_split', 9), ('n_estimators', 1000)])\n",
      "\n"
     ]
    },
    {
     "name": "stderr",
     "output_type": "stream",
     "text": [
      "F:\\miniconda3\\envs\\lfi\\lib\\site-packages\\skopt\\optimizer\\optimizer.py:409: UserWarning: The objective has been evaluated at this point before.\n",
      "  warnings.warn(\"The objective has been evaluated \"\n",
      "F:\\miniconda3\\envs\\lfi\\lib\\site-packages\\sklearn\\utils\\validation.py:931: FutureWarning: Passing attributes to check_is_fitted is deprecated and will be removed in 0.23. The attributes argument is ignored.\n",
      "  warnings.warn(\"Passing attributes to check_is_fitted is deprecated\"\n"
     ]
    },
    {
     "name": "stdout",
     "output_type": "stream",
     "text": [
      "Model #61\n",
      "Best ROC-AUC: 0.8212\n",
      "Best params: OrderedDict([('class_weight', 'balanced_subsample'), ('criterion', 'entropy'), ('max_depth', 4), ('max_features', 'sqrt'), ('min_samples_split', 9), ('n_estimators', 1000)])\n",
      "\n"
     ]
    },
    {
     "name": "stderr",
     "output_type": "stream",
     "text": [
      "F:\\miniconda3\\envs\\lfi\\lib\\site-packages\\sklearn\\utils\\validation.py:931: FutureWarning: Passing attributes to check_is_fitted is deprecated and will be removed in 0.23. The attributes argument is ignored.\n",
      "  warnings.warn(\"Passing attributes to check_is_fitted is deprecated\"\n"
     ]
    },
    {
     "name": "stdout",
     "output_type": "stream",
     "text": [
      "Model #62\n",
      "Best ROC-AUC: 0.8212\n",
      "Best params: OrderedDict([('class_weight', 'balanced_subsample'), ('criterion', 'entropy'), ('max_depth', 4), ('max_features', 'sqrt'), ('min_samples_split', 9), ('n_estimators', 1000)])\n",
      "\n"
     ]
    },
    {
     "name": "stderr",
     "output_type": "stream",
     "text": [
      "F:\\miniconda3\\envs\\lfi\\lib\\site-packages\\sklearn\\utils\\validation.py:931: FutureWarning: Passing attributes to check_is_fitted is deprecated and will be removed in 0.23. The attributes argument is ignored.\n",
      "  warnings.warn(\"Passing attributes to check_is_fitted is deprecated\"\n"
     ]
    },
    {
     "name": "stdout",
     "output_type": "stream",
     "text": [
      "Model #63\n",
      "Best ROC-AUC: 0.8212\n",
      "Best params: OrderedDict([('class_weight', 'balanced_subsample'), ('criterion', 'entropy'), ('max_depth', 4), ('max_features', 'sqrt'), ('min_samples_split', 9), ('n_estimators', 1000)])\n",
      "\n"
     ]
    },
    {
     "name": "stderr",
     "output_type": "stream",
     "text": [
      "F:\\miniconda3\\envs\\lfi\\lib\\site-packages\\sklearn\\utils\\validation.py:931: FutureWarning: Passing attributes to check_is_fitted is deprecated and will be removed in 0.23. The attributes argument is ignored.\n",
      "  warnings.warn(\"Passing attributes to check_is_fitted is deprecated\"\n"
     ]
    },
    {
     "name": "stdout",
     "output_type": "stream",
     "text": [
      "Model #64\n",
      "Best ROC-AUC: 0.8212\n",
      "Best params: OrderedDict([('class_weight', 'balanced_subsample'), ('criterion', 'entropy'), ('max_depth', 4), ('max_features', 'sqrt'), ('min_samples_split', 9), ('n_estimators', 1000)])\n",
      "\n"
     ]
    },
    {
     "name": "stderr",
     "output_type": "stream",
     "text": [
      "F:\\miniconda3\\envs\\lfi\\lib\\site-packages\\sklearn\\utils\\validation.py:931: FutureWarning: Passing attributes to check_is_fitted is deprecated and will be removed in 0.23. The attributes argument is ignored.\n",
      "  warnings.warn(\"Passing attributes to check_is_fitted is deprecated\"\n"
     ]
    },
    {
     "name": "stdout",
     "output_type": "stream",
     "text": [
      "Model #65\n",
      "Best ROC-AUC: 0.8212\n",
      "Best params: OrderedDict([('class_weight', 'balanced_subsample'), ('criterion', 'entropy'), ('max_depth', 4), ('max_features', 'sqrt'), ('min_samples_split', 9), ('n_estimators', 1000)])\n",
      "\n"
     ]
    },
    {
     "name": "stderr",
     "output_type": "stream",
     "text": [
      "F:\\miniconda3\\envs\\lfi\\lib\\site-packages\\sklearn\\utils\\validation.py:931: FutureWarning: Passing attributes to check_is_fitted is deprecated and will be removed in 0.23. The attributes argument is ignored.\n",
      "  warnings.warn(\"Passing attributes to check_is_fitted is deprecated\"\n"
     ]
    },
    {
     "name": "stdout",
     "output_type": "stream",
     "text": [
      "Model #66\n",
      "Best ROC-AUC: 0.8212\n",
      "Best params: OrderedDict([('class_weight', 'balanced_subsample'), ('criterion', 'entropy'), ('max_depth', 4), ('max_features', 'sqrt'), ('min_samples_split', 9), ('n_estimators', 1000)])\n",
      "\n"
     ]
    },
    {
     "name": "stderr",
     "output_type": "stream",
     "text": [
      "F:\\miniconda3\\envs\\lfi\\lib\\site-packages\\sklearn\\utils\\validation.py:931: FutureWarning: Passing attributes to check_is_fitted is deprecated and will be removed in 0.23. The attributes argument is ignored.\n",
      "  warnings.warn(\"Passing attributes to check_is_fitted is deprecated\"\n"
     ]
    },
    {
     "name": "stdout",
     "output_type": "stream",
     "text": [
      "Model #67\n",
      "Best ROC-AUC: 0.8212\n",
      "Best params: OrderedDict([('class_weight', 'balanced_subsample'), ('criterion', 'entropy'), ('max_depth', 4), ('max_features', 'sqrt'), ('min_samples_split', 9), ('n_estimators', 1000)])\n",
      "\n"
     ]
    },
    {
     "name": "stderr",
     "output_type": "stream",
     "text": [
      "F:\\miniconda3\\envs\\lfi\\lib\\site-packages\\sklearn\\utils\\validation.py:931: FutureWarning: Passing attributes to check_is_fitted is deprecated and will be removed in 0.23. The attributes argument is ignored.\n",
      "  warnings.warn(\"Passing attributes to check_is_fitted is deprecated\"\n"
     ]
    },
    {
     "name": "stdout",
     "output_type": "stream",
     "text": [
      "Model #68\n",
      "Best ROC-AUC: 0.8212\n",
      "Best params: OrderedDict([('class_weight', 'balanced_subsample'), ('criterion', 'entropy'), ('max_depth', 4), ('max_features', 'sqrt'), ('min_samples_split', 9), ('n_estimators', 1000)])\n",
      "\n"
     ]
    },
    {
     "name": "stderr",
     "output_type": "stream",
     "text": [
      "F:\\miniconda3\\envs\\lfi\\lib\\site-packages\\sklearn\\utils\\validation.py:931: FutureWarning: Passing attributes to check_is_fitted is deprecated and will be removed in 0.23. The attributes argument is ignored.\n",
      "  warnings.warn(\"Passing attributes to check_is_fitted is deprecated\"\n"
     ]
    },
    {
     "name": "stdout",
     "output_type": "stream",
     "text": [
      "Model #69\n",
      "Best ROC-AUC: 0.8212\n",
      "Best params: OrderedDict([('class_weight', 'balanced_subsample'), ('criterion', 'entropy'), ('max_depth', 4), ('max_features', 'sqrt'), ('min_samples_split', 9), ('n_estimators', 1000)])\n",
      "\n"
     ]
    },
    {
     "name": "stderr",
     "output_type": "stream",
     "text": [
      "F:\\miniconda3\\envs\\lfi\\lib\\site-packages\\sklearn\\utils\\validation.py:931: FutureWarning: Passing attributes to check_is_fitted is deprecated and will be removed in 0.23. The attributes argument is ignored.\n",
      "  warnings.warn(\"Passing attributes to check_is_fitted is deprecated\"\n"
     ]
    },
    {
     "name": "stdout",
     "output_type": "stream",
     "text": [
      "Model #70\n",
      "Best ROC-AUC: 0.8212\n",
      "Best params: OrderedDict([('class_weight', 'balanced_subsample'), ('criterion', 'entropy'), ('max_depth', 4), ('max_features', 'sqrt'), ('min_samples_split', 9), ('n_estimators', 1000)])\n",
      "\n"
     ]
    },
    {
     "name": "stderr",
     "output_type": "stream",
     "text": [
      "F:\\miniconda3\\envs\\lfi\\lib\\site-packages\\sklearn\\utils\\validation.py:931: FutureWarning: Passing attributes to check_is_fitted is deprecated and will be removed in 0.23. The attributes argument is ignored.\n",
      "  warnings.warn(\"Passing attributes to check_is_fitted is deprecated\"\n"
     ]
    },
    {
     "name": "stdout",
     "output_type": "stream",
     "text": [
      "Model #71\n",
      "Best ROC-AUC: 0.8212\n",
      "Best params: OrderedDict([('class_weight', 'balanced_subsample'), ('criterion', 'entropy'), ('max_depth', 4), ('max_features', 'sqrt'), ('min_samples_split', 9), ('n_estimators', 1000)])\n",
      "\n"
     ]
    },
    {
     "name": "stderr",
     "output_type": "stream",
     "text": [
      "F:\\miniconda3\\envs\\lfi\\lib\\site-packages\\sklearn\\utils\\validation.py:931: FutureWarning: Passing attributes to check_is_fitted is deprecated and will be removed in 0.23. The attributes argument is ignored.\n",
      "  warnings.warn(\"Passing attributes to check_is_fitted is deprecated\"\n"
     ]
    },
    {
     "name": "stdout",
     "output_type": "stream",
     "text": [
      "Model #72\n",
      "Best ROC-AUC: 0.8212\n",
      "Best params: OrderedDict([('class_weight', 'balanced_subsample'), ('criterion', 'entropy'), ('max_depth', 4), ('max_features', 'sqrt'), ('min_samples_split', 9), ('n_estimators', 1000)])\n",
      "\n"
     ]
    },
    {
     "name": "stderr",
     "output_type": "stream",
     "text": [
      "F:\\miniconda3\\envs\\lfi\\lib\\site-packages\\sklearn\\utils\\validation.py:931: FutureWarning: Passing attributes to check_is_fitted is deprecated and will be removed in 0.23. The attributes argument is ignored.\n",
      "  warnings.warn(\"Passing attributes to check_is_fitted is deprecated\"\n"
     ]
    },
    {
     "name": "stdout",
     "output_type": "stream",
     "text": [
      "Model #73\n",
      "Best ROC-AUC: 0.8212\n",
      "Best params: OrderedDict([('class_weight', 'balanced_subsample'), ('criterion', 'entropy'), ('max_depth', 4), ('max_features', 'sqrt'), ('min_samples_split', 9), ('n_estimators', 1000)])\n",
      "\n"
     ]
    },
    {
     "name": "stderr",
     "output_type": "stream",
     "text": [
      "F:\\miniconda3\\envs\\lfi\\lib\\site-packages\\skopt\\optimizer\\optimizer.py:409: UserWarning: The objective has been evaluated at this point before.\n",
      "  warnings.warn(\"The objective has been evaluated \"\n",
      "F:\\miniconda3\\envs\\lfi\\lib\\site-packages\\sklearn\\utils\\validation.py:931: FutureWarning: Passing attributes to check_is_fitted is deprecated and will be removed in 0.23. The attributes argument is ignored.\n",
      "  warnings.warn(\"Passing attributes to check_is_fitted is deprecated\"\n"
     ]
    },
    {
     "name": "stdout",
     "output_type": "stream",
     "text": [
      "Model #74\n",
      "Best ROC-AUC: 0.8212\n",
      "Best params: OrderedDict([('class_weight', 'balanced_subsample'), ('criterion', 'entropy'), ('max_depth', 4), ('max_features', 'sqrt'), ('min_samples_split', 9), ('n_estimators', 1000)])\n",
      "\n"
     ]
    },
    {
     "name": "stderr",
     "output_type": "stream",
     "text": [
      "F:\\miniconda3\\envs\\lfi\\lib\\site-packages\\sklearn\\utils\\validation.py:931: FutureWarning: Passing attributes to check_is_fitted is deprecated and will be removed in 0.23. The attributes argument is ignored.\n",
      "  warnings.warn(\"Passing attributes to check_is_fitted is deprecated\"\n"
     ]
    },
    {
     "name": "stdout",
     "output_type": "stream",
     "text": [
      "Model #75\n",
      "Best ROC-AUC: 0.8212\n",
      "Best params: OrderedDict([('class_weight', 'balanced_subsample'), ('criterion', 'entropy'), ('max_depth', 4), ('max_features', 'sqrt'), ('min_samples_split', 9), ('n_estimators', 1000)])\n",
      "\n"
     ]
    },
    {
     "name": "stderr",
     "output_type": "stream",
     "text": [
      "F:\\miniconda3\\envs\\lfi\\lib\\site-packages\\sklearn\\utils\\validation.py:931: FutureWarning: Passing attributes to check_is_fitted is deprecated and will be removed in 0.23. The attributes argument is ignored.\n",
      "  warnings.warn(\"Passing attributes to check_is_fitted is deprecated\"\n"
     ]
    },
    {
     "name": "stdout",
     "output_type": "stream",
     "text": [
      "Model #76\n",
      "Best ROC-AUC: 0.8212\n",
      "Best params: OrderedDict([('class_weight', 'balanced_subsample'), ('criterion', 'entropy'), ('max_depth', 4), ('max_features', 'sqrt'), ('min_samples_split', 9), ('n_estimators', 1000)])\n",
      "\n"
     ]
    },
    {
     "name": "stderr",
     "output_type": "stream",
     "text": [
      "F:\\miniconda3\\envs\\lfi\\lib\\site-packages\\sklearn\\utils\\validation.py:931: FutureWarning: Passing attributes to check_is_fitted is deprecated and will be removed in 0.23. The attributes argument is ignored.\n",
      "  warnings.warn(\"Passing attributes to check_is_fitted is deprecated\"\n"
     ]
    },
    {
     "name": "stdout",
     "output_type": "stream",
     "text": [
      "Model #77\n",
      "Best ROC-AUC: 0.8212\n",
      "Best params: OrderedDict([('class_weight', 'balanced_subsample'), ('criterion', 'entropy'), ('max_depth', 4), ('max_features', 'sqrt'), ('min_samples_split', 9), ('n_estimators', 1000)])\n",
      "\n"
     ]
    },
    {
     "name": "stderr",
     "output_type": "stream",
     "text": [
      "F:\\miniconda3\\envs\\lfi\\lib\\site-packages\\sklearn\\utils\\validation.py:931: FutureWarning: Passing attributes to check_is_fitted is deprecated and will be removed in 0.23. The attributes argument is ignored.\n",
      "  warnings.warn(\"Passing attributes to check_is_fitted is deprecated\"\n"
     ]
    },
    {
     "name": "stdout",
     "output_type": "stream",
     "text": [
      "Model #78\n",
      "Best ROC-AUC: 0.8212\n",
      "Best params: OrderedDict([('class_weight', 'balanced_subsample'), ('criterion', 'entropy'), ('max_depth', 4), ('max_features', 'sqrt'), ('min_samples_split', 9), ('n_estimators', 1000)])\n",
      "\n"
     ]
    },
    {
     "name": "stderr",
     "output_type": "stream",
     "text": [
      "F:\\miniconda3\\envs\\lfi\\lib\\site-packages\\sklearn\\utils\\validation.py:931: FutureWarning: Passing attributes to check_is_fitted is deprecated and will be removed in 0.23. The attributes argument is ignored.\n",
      "  warnings.warn(\"Passing attributes to check_is_fitted is deprecated\"\n"
     ]
    },
    {
     "name": "stdout",
     "output_type": "stream",
     "text": [
      "Model #79\n",
      "Best ROC-AUC: 0.8212\n",
      "Best params: OrderedDict([('class_weight', 'balanced_subsample'), ('criterion', 'entropy'), ('max_depth', 4), ('max_features', 'sqrt'), ('min_samples_split', 9), ('n_estimators', 1000)])\n",
      "\n"
     ]
    },
    {
     "name": "stderr",
     "output_type": "stream",
     "text": [
      "F:\\miniconda3\\envs\\lfi\\lib\\site-packages\\sklearn\\utils\\validation.py:931: FutureWarning: Passing attributes to check_is_fitted is deprecated and will be removed in 0.23. The attributes argument is ignored.\n",
      "  warnings.warn(\"Passing attributes to check_is_fitted is deprecated\"\n"
     ]
    },
    {
     "name": "stdout",
     "output_type": "stream",
     "text": [
      "Model #80\n",
      "Best ROC-AUC: 0.8212\n",
      "Best params: OrderedDict([('class_weight', 'balanced_subsample'), ('criterion', 'entropy'), ('max_depth', 4), ('max_features', 'sqrt'), ('min_samples_split', 9), ('n_estimators', 1000)])\n",
      "\n"
     ]
    },
    {
     "name": "stderr",
     "output_type": "stream",
     "text": [
      "F:\\miniconda3\\envs\\lfi\\lib\\site-packages\\sklearn\\utils\\validation.py:931: FutureWarning: Passing attributes to check_is_fitted is deprecated and will be removed in 0.23. The attributes argument is ignored.\n",
      "  warnings.warn(\"Passing attributes to check_is_fitted is deprecated\"\n"
     ]
    },
    {
     "name": "stdout",
     "output_type": "stream",
     "text": [
      "Model #81\n",
      "Best ROC-AUC: 0.8212\n",
      "Best params: OrderedDict([('class_weight', 'balanced_subsample'), ('criterion', 'entropy'), ('max_depth', 4), ('max_features', 'sqrt'), ('min_samples_split', 9), ('n_estimators', 1000)])\n",
      "\n"
     ]
    },
    {
     "name": "stderr",
     "output_type": "stream",
     "text": [
      "F:\\miniconda3\\envs\\lfi\\lib\\site-packages\\sklearn\\utils\\validation.py:931: FutureWarning: Passing attributes to check_is_fitted is deprecated and will be removed in 0.23. The attributes argument is ignored.\n",
      "  warnings.warn(\"Passing attributes to check_is_fitted is deprecated\"\n"
     ]
    },
    {
     "name": "stdout",
     "output_type": "stream",
     "text": [
      "Model #82\n",
      "Best ROC-AUC: 0.8212\n",
      "Best params: OrderedDict([('class_weight', 'balanced_subsample'), ('criterion', 'entropy'), ('max_depth', 4), ('max_features', 'sqrt'), ('min_samples_split', 9), ('n_estimators', 1000)])\n",
      "\n"
     ]
    },
    {
     "name": "stderr",
     "output_type": "stream",
     "text": [
      "F:\\miniconda3\\envs\\lfi\\lib\\site-packages\\sklearn\\utils\\validation.py:931: FutureWarning: Passing attributes to check_is_fitted is deprecated and will be removed in 0.23. The attributes argument is ignored.\n",
      "  warnings.warn(\"Passing attributes to check_is_fitted is deprecated\"\n"
     ]
    },
    {
     "name": "stdout",
     "output_type": "stream",
     "text": [
      "Model #83\n",
      "Best ROC-AUC: 0.8212\n",
      "Best params: OrderedDict([('class_weight', 'balanced_subsample'), ('criterion', 'entropy'), ('max_depth', 4), ('max_features', 'sqrt'), ('min_samples_split', 9), ('n_estimators', 1000)])\n",
      "\n"
     ]
    },
    {
     "name": "stderr",
     "output_type": "stream",
     "text": [
      "F:\\miniconda3\\envs\\lfi\\lib\\site-packages\\sklearn\\utils\\validation.py:931: FutureWarning: Passing attributes to check_is_fitted is deprecated and will be removed in 0.23. The attributes argument is ignored.\n",
      "  warnings.warn(\"Passing attributes to check_is_fitted is deprecated\"\n"
     ]
    },
    {
     "name": "stdout",
     "output_type": "stream",
     "text": [
      "Model #84\n",
      "Best ROC-AUC: 0.8212\n",
      "Best params: OrderedDict([('class_weight', 'balanced_subsample'), ('criterion', 'entropy'), ('max_depth', 4), ('max_features', 'sqrt'), ('min_samples_split', 9), ('n_estimators', 1000)])\n",
      "\n"
     ]
    },
    {
     "name": "stderr",
     "output_type": "stream",
     "text": [
      "F:\\miniconda3\\envs\\lfi\\lib\\site-packages\\sklearn\\utils\\validation.py:931: FutureWarning: Passing attributes to check_is_fitted is deprecated and will be removed in 0.23. The attributes argument is ignored.\n",
      "  warnings.warn(\"Passing attributes to check_is_fitted is deprecated\"\n"
     ]
    },
    {
     "name": "stdout",
     "output_type": "stream",
     "text": [
      "Model #85\n",
      "Best ROC-AUC: 0.8212\n",
      "Best params: OrderedDict([('class_weight', 'balanced_subsample'), ('criterion', 'entropy'), ('max_depth', 4), ('max_features', 'sqrt'), ('min_samples_split', 9), ('n_estimators', 1000)])\n",
      "\n"
     ]
    },
    {
     "name": "stderr",
     "output_type": "stream",
     "text": [
      "F:\\miniconda3\\envs\\lfi\\lib\\site-packages\\sklearn\\utils\\validation.py:931: FutureWarning: Passing attributes to check_is_fitted is deprecated and will be removed in 0.23. The attributes argument is ignored.\n",
      "  warnings.warn(\"Passing attributes to check_is_fitted is deprecated\"\n"
     ]
    },
    {
     "name": "stdout",
     "output_type": "stream",
     "text": [
      "Model #86\n",
      "Best ROC-AUC: 0.8212\n",
      "Best params: OrderedDict([('class_weight', 'balanced_subsample'), ('criterion', 'entropy'), ('max_depth', 4), ('max_features', 'sqrt'), ('min_samples_split', 9), ('n_estimators', 1000)])\n",
      "\n"
     ]
    },
    {
     "name": "stderr",
     "output_type": "stream",
     "text": [
      "F:\\miniconda3\\envs\\lfi\\lib\\site-packages\\sklearn\\utils\\validation.py:931: FutureWarning: Passing attributes to check_is_fitted is deprecated and will be removed in 0.23. The attributes argument is ignored.\n",
      "  warnings.warn(\"Passing attributes to check_is_fitted is deprecated\"\n"
     ]
    },
    {
     "name": "stdout",
     "output_type": "stream",
     "text": [
      "Model #87\n",
      "Best ROC-AUC: 0.8212\n",
      "Best params: OrderedDict([('class_weight', 'balanced_subsample'), ('criterion', 'entropy'), ('max_depth', 4), ('max_features', 'sqrt'), ('min_samples_split', 9), ('n_estimators', 1000)])\n",
      "\n"
     ]
    },
    {
     "name": "stderr",
     "output_type": "stream",
     "text": [
      "F:\\miniconda3\\envs\\lfi\\lib\\site-packages\\skopt\\optimizer\\optimizer.py:409: UserWarning: The objective has been evaluated at this point before.\n",
      "  warnings.warn(\"The objective has been evaluated \"\n",
      "F:\\miniconda3\\envs\\lfi\\lib\\site-packages\\sklearn\\utils\\validation.py:931: FutureWarning: Passing attributes to check_is_fitted is deprecated and will be removed in 0.23. The attributes argument is ignored.\n",
      "  warnings.warn(\"Passing attributes to check_is_fitted is deprecated\"\n"
     ]
    },
    {
     "name": "stdout",
     "output_type": "stream",
     "text": [
      "Model #88\n",
      "Best ROC-AUC: 0.8212\n",
      "Best params: OrderedDict([('class_weight', 'balanced_subsample'), ('criterion', 'entropy'), ('max_depth', 4), ('max_features', 'sqrt'), ('min_samples_split', 9), ('n_estimators', 1000)])\n",
      "\n"
     ]
    },
    {
     "name": "stderr",
     "output_type": "stream",
     "text": [
      "F:\\miniconda3\\envs\\lfi\\lib\\site-packages\\sklearn\\utils\\validation.py:931: FutureWarning: Passing attributes to check_is_fitted is deprecated and will be removed in 0.23. The attributes argument is ignored.\n",
      "  warnings.warn(\"Passing attributes to check_is_fitted is deprecated\"\n"
     ]
    },
    {
     "name": "stdout",
     "output_type": "stream",
     "text": [
      "Model #89\n",
      "Best ROC-AUC: 0.8212\n",
      "Best params: OrderedDict([('class_weight', 'balanced_subsample'), ('criterion', 'entropy'), ('max_depth', 4), ('max_features', 'sqrt'), ('min_samples_split', 9), ('n_estimators', 1000)])\n",
      "\n"
     ]
    },
    {
     "name": "stderr",
     "output_type": "stream",
     "text": [
      "F:\\miniconda3\\envs\\lfi\\lib\\site-packages\\sklearn\\utils\\validation.py:931: FutureWarning: Passing attributes to check_is_fitted is deprecated and will be removed in 0.23. The attributes argument is ignored.\n",
      "  warnings.warn(\"Passing attributes to check_is_fitted is deprecated\"\n"
     ]
    },
    {
     "name": "stdout",
     "output_type": "stream",
     "text": [
      "Model #90\n",
      "Best ROC-AUC: 0.8212\n",
      "Best params: OrderedDict([('class_weight', 'balanced_subsample'), ('criterion', 'entropy'), ('max_depth', 4), ('max_features', 'sqrt'), ('min_samples_split', 9), ('n_estimators', 1000)])\n",
      "\n"
     ]
    },
    {
     "name": "stderr",
     "output_type": "stream",
     "text": [
      "F:\\miniconda3\\envs\\lfi\\lib\\site-packages\\sklearn\\utils\\validation.py:931: FutureWarning: Passing attributes to check_is_fitted is deprecated and will be removed in 0.23. The attributes argument is ignored.\n",
      "  warnings.warn(\"Passing attributes to check_is_fitted is deprecated\"\n"
     ]
    },
    {
     "name": "stdout",
     "output_type": "stream",
     "text": [
      "Model #91\n",
      "Best ROC-AUC: 0.8212\n",
      "Best params: OrderedDict([('class_weight', 'balanced_subsample'), ('criterion', 'entropy'), ('max_depth', 4), ('max_features', 'sqrt'), ('min_samples_split', 9), ('n_estimators', 1000)])\n",
      "\n"
     ]
    },
    {
     "name": "stderr",
     "output_type": "stream",
     "text": [
      "F:\\miniconda3\\envs\\lfi\\lib\\site-packages\\sklearn\\utils\\validation.py:931: FutureWarning: Passing attributes to check_is_fitted is deprecated and will be removed in 0.23. The attributes argument is ignored.\n",
      "  warnings.warn(\"Passing attributes to check_is_fitted is deprecated\"\n"
     ]
    },
    {
     "name": "stdout",
     "output_type": "stream",
     "text": [
      "Model #92\n",
      "Best ROC-AUC: 0.8212\n",
      "Best params: OrderedDict([('class_weight', 'balanced_subsample'), ('criterion', 'entropy'), ('max_depth', 4), ('max_features', 'sqrt'), ('min_samples_split', 9), ('n_estimators', 1000)])\n",
      "\n"
     ]
    },
    {
     "name": "stderr",
     "output_type": "stream",
     "text": [
      "F:\\miniconda3\\envs\\lfi\\lib\\site-packages\\sklearn\\utils\\validation.py:931: FutureWarning: Passing attributes to check_is_fitted is deprecated and will be removed in 0.23. The attributes argument is ignored.\n",
      "  warnings.warn(\"Passing attributes to check_is_fitted is deprecated\"\n"
     ]
    },
    {
     "name": "stdout",
     "output_type": "stream",
     "text": [
      "Model #93\n",
      "Best ROC-AUC: 0.8212\n",
      "Best params: OrderedDict([('class_weight', 'balanced_subsample'), ('criterion', 'entropy'), ('max_depth', 4), ('max_features', 'sqrt'), ('min_samples_split', 9), ('n_estimators', 1000)])\n",
      "\n"
     ]
    },
    {
     "name": "stderr",
     "output_type": "stream",
     "text": [
      "F:\\miniconda3\\envs\\lfi\\lib\\site-packages\\sklearn\\utils\\validation.py:931: FutureWarning: Passing attributes to check_is_fitted is deprecated and will be removed in 0.23. The attributes argument is ignored.\n",
      "  warnings.warn(\"Passing attributes to check_is_fitted is deprecated\"\n"
     ]
    },
    {
     "name": "stdout",
     "output_type": "stream",
     "text": [
      "Model #94\n",
      "Best ROC-AUC: 0.8212\n",
      "Best params: OrderedDict([('class_weight', 'balanced_subsample'), ('criterion', 'entropy'), ('max_depth', 4), ('max_features', 'sqrt'), ('min_samples_split', 9), ('n_estimators', 1000)])\n",
      "\n"
     ]
    },
    {
     "name": "stderr",
     "output_type": "stream",
     "text": [
      "F:\\miniconda3\\envs\\lfi\\lib\\site-packages\\sklearn\\utils\\validation.py:931: FutureWarning: Passing attributes to check_is_fitted is deprecated and will be removed in 0.23. The attributes argument is ignored.\n",
      "  warnings.warn(\"Passing attributes to check_is_fitted is deprecated\"\n"
     ]
    },
    {
     "name": "stdout",
     "output_type": "stream",
     "text": [
      "Model #95\n",
      "Best ROC-AUC: 0.8212\n",
      "Best params: OrderedDict([('class_weight', 'balanced_subsample'), ('criterion', 'entropy'), ('max_depth', 4), ('max_features', 'sqrt'), ('min_samples_split', 9), ('n_estimators', 1000)])\n",
      "\n"
     ]
    },
    {
     "name": "stderr",
     "output_type": "stream",
     "text": [
      "F:\\miniconda3\\envs\\lfi\\lib\\site-packages\\sklearn\\utils\\validation.py:931: FutureWarning: Passing attributes to check_is_fitted is deprecated and will be removed in 0.23. The attributes argument is ignored.\n",
      "  warnings.warn(\"Passing attributes to check_is_fitted is deprecated\"\n"
     ]
    },
    {
     "name": "stdout",
     "output_type": "stream",
     "text": [
      "Model #96\n",
      "Best ROC-AUC: 0.8212\n",
      "Best params: OrderedDict([('class_weight', 'balanced_subsample'), ('criterion', 'entropy'), ('max_depth', 4), ('max_features', 'sqrt'), ('min_samples_split', 9), ('n_estimators', 1000)])\n",
      "\n"
     ]
    },
    {
     "name": "stderr",
     "output_type": "stream",
     "text": [
      "F:\\miniconda3\\envs\\lfi\\lib\\site-packages\\sklearn\\utils\\validation.py:931: FutureWarning: Passing attributes to check_is_fitted is deprecated and will be removed in 0.23. The attributes argument is ignored.\n",
      "  warnings.warn(\"Passing attributes to check_is_fitted is deprecated\"\n"
     ]
    },
    {
     "name": "stdout",
     "output_type": "stream",
     "text": [
      "Model #97\n",
      "Best ROC-AUC: 0.8212\n",
      "Best params: OrderedDict([('class_weight', 'balanced_subsample'), ('criterion', 'entropy'), ('max_depth', 4), ('max_features', 'sqrt'), ('min_samples_split', 9), ('n_estimators', 1000)])\n",
      "\n"
     ]
    },
    {
     "name": "stderr",
     "output_type": "stream",
     "text": [
      "F:\\miniconda3\\envs\\lfi\\lib\\site-packages\\skopt\\optimizer\\optimizer.py:409: UserWarning: The objective has been evaluated at this point before.\n",
      "  warnings.warn(\"The objective has been evaluated \"\n",
      "F:\\miniconda3\\envs\\lfi\\lib\\site-packages\\sklearn\\utils\\validation.py:931: FutureWarning: Passing attributes to check_is_fitted is deprecated and will be removed in 0.23. The attributes argument is ignored.\n",
      "  warnings.warn(\"Passing attributes to check_is_fitted is deprecated\"\n"
     ]
    },
    {
     "name": "stdout",
     "output_type": "stream",
     "text": [
      "Model #98\n",
      "Best ROC-AUC: 0.8212\n",
      "Best params: OrderedDict([('class_weight', 'balanced_subsample'), ('criterion', 'entropy'), ('max_depth', 4), ('max_features', 'sqrt'), ('min_samples_split', 9), ('n_estimators', 1000)])\n",
      "\n"
     ]
    },
    {
     "name": "stderr",
     "output_type": "stream",
     "text": [
      "F:\\miniconda3\\envs\\lfi\\lib\\site-packages\\skopt\\optimizer\\optimizer.py:409: UserWarning: The objective has been evaluated at this point before.\n",
      "  warnings.warn(\"The objective has been evaluated \"\n",
      "F:\\miniconda3\\envs\\lfi\\lib\\site-packages\\sklearn\\utils\\validation.py:931: FutureWarning: Passing attributes to check_is_fitted is deprecated and will be removed in 0.23. The attributes argument is ignored.\n",
      "  warnings.warn(\"Passing attributes to check_is_fitted is deprecated\"\n"
     ]
    },
    {
     "name": "stdout",
     "output_type": "stream",
     "text": [
      "Model #99\n",
      "Best ROC-AUC: 0.8212\n",
      "Best params: OrderedDict([('class_weight', 'balanced_subsample'), ('criterion', 'entropy'), ('max_depth', 4), ('max_features', 'sqrt'), ('min_samples_split', 9), ('n_estimators', 1000)])\n",
      "\n"
     ]
    },
    {
     "name": "stderr",
     "output_type": "stream",
     "text": [
      "F:\\miniconda3\\envs\\lfi\\lib\\site-packages\\sklearn\\utils\\validation.py:931: FutureWarning: Passing attributes to check_is_fitted is deprecated and will be removed in 0.23. The attributes argument is ignored.\n",
      "  warnings.warn(\"Passing attributes to check_is_fitted is deprecated\"\n"
     ]
    },
    {
     "name": "stdout",
     "output_type": "stream",
     "text": [
      "Model #100\n",
      "Best ROC-AUC: 0.8212\n",
      "Best params: OrderedDict([('class_weight', 'balanced_subsample'), ('criterion', 'entropy'), ('max_depth', 4), ('max_features', 'sqrt'), ('min_samples_split', 9), ('n_estimators', 1000)])\n",
      "\n",
      "Successfully saved results in HPO\\RandomForest\n"
     ]
    },
    {
     "name": "stderr",
     "output_type": "stream",
     "text": [
      "F:\\miniconda3\\envs\\lfi\\lib\\site-packages\\sklearn\\utils\\validation.py:931: FutureWarning: Passing attributes to check_is_fitted is deprecated and will be removed in 0.23. The attributes argument is ignored.\n",
      "  warnings.warn(\"Passing attributes to check_is_fitted is deprecated\"\n"
     ]
    }
   ],
   "source": [
    "rf_tuned = bayes_cv_tuner.fit(X, y, callback=status_print)\n",
    "save_dict_as_json('HPO/RandomForest/', rf_tuned.best_params_, 'best_params')"
   ]
  },
  {
   "cell_type": "markdown",
   "id": "laden-reynolds",
   "metadata": {},
   "source": [
    "Load best params found"
   ]
  },
  {
   "cell_type": "code",
   "execution_count": 4,
   "id": "coupled-questionnaire",
   "metadata": {},
   "outputs": [
    {
     "data": {
      "text/plain": [
       "{'class_weight': 'balanced_subsample',\n",
       " 'criterion': 'entropy',\n",
       " 'max_depth': 4,\n",
       " 'max_features': 'sqrt',\n",
       " 'min_samples_split': 9,\n",
       " 'n_estimators': 1000}"
      ]
     },
     "execution_count": 4,
     "metadata": {},
     "output_type": "execute_result"
    }
   ],
   "source": [
    "best_params = read_json_file('HPO/RandomForest/best_params.json')\n",
    "best_params"
   ]
  }
 ],
 "metadata": {
  "kernelspec": {
   "display_name": "Python 3",
   "language": "python",
   "name": "python3"
  },
  "language_info": {
   "codemirror_mode": {
    "name": "ipython",
    "version": 3
   },
   "file_extension": ".py",
   "mimetype": "text/x-python",
   "name": "python",
   "nbconvert_exporter": "python",
   "pygments_lexer": "ipython3",
   "version": "3.8.10"
  }
 },
 "nbformat": 4,
 "nbformat_minor": 5
}
