{
 "cells": [
  {
   "cell_type": "markdown",
   "id": "virtual-breast",
   "metadata": {},
   "source": [
    "## Data"
   ]
  },
  {
   "cell_type": "code",
   "execution_count": 1,
   "id": "strange-filing",
   "metadata": {},
   "outputs": [],
   "source": [
    "import pandas as pd\n",
    "import seaborn as sns\n",
    "import matplotlib.pyplot as plt\n",
    "import numpy as np\n",
    "from datetime import timedelta\n",
    "#https://www.kaggle.com/izzettunc/introduction-to-time-series-clustering"
   ]
  },
  {
   "cell_type": "code",
   "execution_count": 2,
   "id": "fleet-harvest",
   "metadata": {},
   "outputs": [
    {
     "name": "stdout",
     "output_type": "stream",
     "text": [
      "<class 'pandas.core.frame.DataFrame'>\n",
      "RangeIndex: 113687 entries, 0 to 113686\n",
      "Data columns (total 11 columns):\n",
      " #   Column         Non-Null Count   Dtype         \n",
      "---  ------         --------------   -----         \n",
      " 0   datetime       113687 non-null  datetime64[ns]\n",
      " 1   campaign_id    113687 non-null  object        \n",
      " 2   time           113687 non-null  object        \n",
      " 3   spend          113687 non-null  float64       \n",
      " 4   impressions    113687 non-null  float64       \n",
      " 5   clicks         113687 non-null  float64       \n",
      " 6   purchase       113687 non-null  float64       \n",
      " 7   hour           113687 non-null  float64       \n",
      " 8   unique_ids     113687 non-null  object        \n",
      " 9   first_24_hour  113687 non-null  bool          \n",
      " 10  test_set       113687 non-null  bool          \n",
      "dtypes: bool(2), datetime64[ns](1), float64(5), object(3)\n",
      "memory usage: 8.0+ MB\n"
     ]
    }
   ],
   "source": [
    "prepared_df = pd.read_csv(r\"data/prepared_data.csv\")\n",
    "prepared_df['datetime'] = pd.to_datetime(prepared_df['datetime'])\n",
    "prepared_df.info()"
   ]
  },
  {
   "cell_type": "markdown",
   "id": "czech-franklin",
   "metadata": {},
   "source": [
    "## Defining and calculate Target Metric \n",
    "    The target metric consists of two KPI\n",
    "    - Click Through Rate: clicks/impressions\n",
    "    - Conversion Rate: purchase/clicks\n",
    "   **A custom weighted conversion rate:** $(avgCTR+2*avgConversionRate)/3$\n",
    "   \n",
    "   <span style=\"font-family:Comic Sans MS\">\n",
    "    <a href=\"https://www.wordstream.com/click-through-rate\">Average CTR: 0.35%</a>\n",
    "    <br>\n",
    "    <a href=\"https://www.wordstream.com/blog/ws/2014/03/17/what-is-a-good-conversion-rate#:~:text=going%20to%20go%3F-,But%20what%20is%20a%20good%20conversion%20rate%3F,rates%20of%2011.45%25%20or%20higher.\">Average Conversion rate: 2.35%</a>\n",
    "   </span>\n",
    "\n",
    "Ads beyond the threshold of the custom weighted conversion rate: 1.683 will be considered as good ads."
   ]
  },
  {
   "cell_type": "code",
   "execution_count": 3,
   "id": "organized-retailer",
   "metadata": {},
   "outputs": [
    {
     "name": "stdout",
     "output_type": "stream",
     "text": [
      "113687 870 130.67471264367816\n"
     ]
    }
   ],
   "source": [
    "avg_custom_conversion_rate = 1.683\n",
    "\n",
    "#calculate ctr and checks for non-sensical value (i.e. >100%)\n",
    "prepared_df['ctr'] = prepared_df.clicks/prepared_df.impressions*100\n",
    "prepared_df.loc[prepared_df['ctr'] ==np.inf, 'ctr'] = 100\n",
    "prepared_df.loc[prepared_df['ctr']>100, 'ctr'] = 100\n",
    "prepared_df['ctr'] = prepared_df['ctr'].fillna(0)\n",
    "\n",
    "#calculate conversion rate  and checks for non-sensical value (i.e. >100%)\n",
    "prepared_df['conversion_rate'] = prepared_df.purchase/prepared_df.clicks*100\n",
    "prepared_df.loc[prepared_df['conversion_rate'] ==np.inf, 'conversion_rate'] = 100\n",
    "prepared_df.loc[prepared_df['conversion_rate']>100, 'conversion_rate'] = 100\n",
    "prepared_df['conversion_rate'] = prepared_df['conversion_rate'].fillna(0)\n",
    "\n",
    "#calculate custom conversion rate\n",
    "prepared_df['custom_conversion_rate'] = (prepared_df['ctr']+(prepared_df['conversion_rate']*2))/3\n",
    "prepared_df['good_performance'] = prepared_df['custom_conversion_rate']>=avg_custom_conversion_rate\n",
    "\n",
    "#extract hour\n",
    "prepared_df['hour'] = prepared_df['datetime'].dt.hour\n",
    "prepared_df['dayofweek'] = prepared_df['datetime'].dt.dayofweek\n",
    "\n",
    "#extract boolean clicked and purchase value\n",
    "prepared_df['clicked'] = prepared_df['clicks']>0\n",
    "prepared_df['purchased'] = prepared_df['purchase']>0\n",
    "\n",
    "#Creates next hour customer conversion rate column\n",
    "prepared_df = prepared_df.assign(next_hour_custom_conversion_rate = prepared_df.groupby(['unique_ids']).custom_conversion_rate.shift(-1))\n",
    "prepared_df = prepared_df.assign(next_hour_good_performance = prepared_df.groupby(['unique_ids']).good_performance.shift(-1))\n",
    "\n",
    "# # extracts next hour clicks and purchase\n",
    "prepared_df = prepared_df.assign(next_hour_clicks = prepared_df.groupby(['unique_ids']).clicks.shift(-1))\n",
    "prepared_df = prepared_df.assign(next_hour_purchases = prepared_df.groupby(['unique_ids']).purchase.shift(-1))\n",
    "\n",
    "print(prepared_df.shape[0],\n",
    "      len(prepared_df['unique_ids'].unique()),  \n",
    "      prepared_df.shape[0]/len(prepared_df['unique_ids'].unique()))\n",
    "\n",
    "#campaign_id_23843427462090549_ad_id_23843429354180549\n",
    "#prepared_df = prepared_df[prepared_df['prediction_horizon'] | prepared_df['first_24_hour']]\n",
    "\n",
    "#prepared_df  = prepared_df.dropna()\n",
    "##prepared_df"
   ]
  },
  {
   "cell_type": "markdown",
   "id": "earlier-attendance",
   "metadata": {},
   "source": [
    "## EDA"
   ]
  },
  {
   "cell_type": "code",
   "execution_count": 25,
   "id": "recognized-indication",
   "metadata": {},
   "outputs": [
    {
     "name": "stdout",
     "output_type": "stream",
     "text": [
      "Total data size:  23488\n"
     ]
    }
   ],
   "source": [
    "full_data = prepared_df[prepared_df['test_set'] | prepared_df['first_24_hour']]\n",
    "\n",
    "full_data ['campaign_id'] = full_data['unique_ids'].apply(lambda x: str(x).split('_')[2])\n",
    "unique_campaigns = list(full_data['campaign_id'].unique())\n",
    "full_data ['campaign_id'] = full_data['campaign_id'].apply(lambda x: unique_campaigns.index(x))\n",
    "\n",
    "print('Total data size: ', full_data.shape[0])\n"
   ]
  },
  {
   "cell_type": "code",
   "execution_count": 5,
   "id": "interested-silver",
   "metadata": {},
   "outputs": [
    {
     "data": {
      "image/png": "[encoded data removed]",
      "text/plain": [
       "<Figure size 432x288 with 1 Axes>"
      ]
     },
     "metadata": {
      "needs_background": "light"
     },
     "output_type": "display_data"
    }
   ],
   "source": [
    "sns.countplot(x='clicked',data=full_data, palette='hls')\n",
    "plt.show();"
   ]
  },
  {
   "cell_type": "code",
   "execution_count": 198,
   "id": "posted-vegetable",
   "metadata": {
    "scrolled": true
   },
   "outputs": [
    {
     "data": {
      "image/png": "[encoded data removed]",
      "text/plain": [
       "<Figure size 432x288 with 1 Axes>"
      ]
     },
     "metadata": {
      "needs_background": "light"
     },
     "output_type": "display_data"
    }
   ],
   "source": [
    "sns.countplot(x='purchased',data=full_data, palette='hls')\n",
    "plt.show();"
   ]
  },
  {
   "cell_type": "markdown",
   "id": "second-apollo",
   "metadata": {},
   "source": [
    "### Ad Classification!"
   ]
  },
  {
   "cell_type": "code",
   "execution_count": 199,
   "id": "western-lender",
   "metadata": {},
   "outputs": [
    {
     "data": {
      "image/png": "[encoded data removed]",
      "text/plain": [
       "<Figure size 432x288 with 1 Axes>"
      ]
     },
     "metadata": {
      "needs_background": "light"
     },
     "output_type": "display_data"
    }
   ],
   "source": [
    "sns.countplot(x='good_performance',data=full_data, palette='hls')\n",
    "plt.show();"
   ]
  },
  {
   "cell_type": "markdown",
   "id": "injured-atlas",
   "metadata": {},
   "source": [
    "#### Next day ad performance"
   ]
  },
  {
   "cell_type": "code",
   "execution_count": 200,
   "id": "weekly-apparel",
   "metadata": {},
   "outputs": [
    {
     "name": "stdout",
     "output_type": "stream",
     "text": [
      "Training data %:  88.89645776566758\n",
      "Training data ads performing good:  1179\n",
      "5.646551724137931%\n"
     ]
    },
    {
     "data": {
      "image/png": "[encoded data removed]",
      "text/plain": [
       "<Figure size 432x288 with 1 Axes>"
      ]
     },
     "metadata": {
      "needs_background": "light"
     },
     "output_type": "display_data"
    }
   ],
   "source": [
    "training_data = full_data[full_data['first_24_hour']]\n",
    "print('Training data %: ', (100*training_data.shape[0])/full_data.shape[0])\n",
    "\n",
    "good_ads = training_data[(training_data.next_hour_good_performance>0) &\\\n",
    "                  (training_data.first_24_hour>0)].shape[0]\n",
    "\n",
    "\n",
    "print('Training data ads performing good: ', good_ads)\n",
    "print('{}%'.format((100*good_ads)/training_data.shape[0]))\n",
    "\n",
    "sns.countplot(x='next_hour_good_performance', data=full_data, palette='hls')\n",
    "plt.show()"
   ]
  },
  {
   "cell_type": "markdown",
   "id": "appropriate-accident",
   "metadata": {},
   "source": [
    "### Class Balance In test set"
   ]
  },
  {
   "cell_type": "code",
   "execution_count": 201,
   "id": "searching-gabriel",
   "metadata": {},
   "outputs": [
    {
     "name": "stdout",
     "output_type": "stream",
     "text": [
      "Test data total ads:  2608\n",
      "Number of ads with good performance: 135\n",
      "5.17638036809816%\n"
     ]
    },
    {
     "data": {
      "image/png": "[encoded data removed]",
      "text/plain": [
       "<Figure size 432x288 with 1 Axes>"
      ]
     },
     "metadata": {
      "needs_background": "light"
     },
     "output_type": "display_data"
    }
   ],
   "source": [
    "#Class Balance In test set: \n",
    "#41 vs 829 with actual threshold~6%\n",
    "\n",
    "test_set = full_data[full_data['test_set']]\n",
    "print('Test data total ads: ', test_set.shape[0])\n",
    "print('Number of ads with good performance: {}'.format(test_set[test_set.next_hour_good_performance>0].shape[0]))\n",
    "print('{}%'.format((100*test_set[test_set.next_hour_good_performance>0].shape[0])/test_set.shape[0]))\n",
    "sns.countplot(x='next_hour_good_performance',data=get_last_hour_labels, palette='hls')\n",
    "plt.show()"
   ]
  },
  {
   "cell_type": "markdown",
   "id": "empty-freight",
   "metadata": {},
   "source": [
    "### Hourly Pattern"
   ]
  },
  {
   "cell_type": "code",
   "execution_count": 202,
   "id": "certified-frontier",
   "metadata": {
    "scrolled": true
   },
   "outputs": [
    {
     "data": {
      "image/png": "[encoded data removed]",
      "text/plain": [
       "<Figure size 864x432 with 1 Axes>"
      ]
     },
     "metadata": {
      "needs_background": "light"
     },
     "output_type": "display_data"
    }
   ],
   "source": [
    "plt.figure(figsize=(12,6))\n",
    "sns.barplot(y='ctr', x='hour', data=full_data)\n",
    "plt.title('Hourly Click Through Rate');"
   ]
  },
  {
   "cell_type": "code",
   "execution_count": 203,
   "id": "tribal-colombia",
   "metadata": {},
   "outputs": [
    {
     "data": {
      "image/png": "[encoded data removed]",
      "text/plain": [
       "<Figure size 864x432 with 1 Axes>"
      ]
     },
     "metadata": {
      "needs_background": "light"
     },
     "output_type": "display_data"
    }
   ],
   "source": [
    "plt.figure(figsize=(12,6))\n",
    "sns.barplot(y='conversion_rate', x='hour', data=full_data)\n",
    "plt.title('Hourly Conversion Rate');"
   ]
  },
  {
   "cell_type": "code",
   "execution_count": 204,
   "id": "consistent-european",
   "metadata": {
    "scrolled": true
   },
   "outputs": [
    {
     "data": {
      "image/png": "[encoded data removed]",
      "text/plain": [
       "<Figure size 864x432 with 1 Axes>"
      ]
     },
     "metadata": {
      "needs_background": "light"
     },
     "output_type": "display_data"
    }
   ],
   "source": [
    "plt.figure(figsize=(12,6))\n",
    "sns.barplot(y='custom_conversion_rate', x='hour', data=full_data)\n",
    "plt.title('Hourly custom conversion rate');"
   ]
  },
  {
   "cell_type": "markdown",
   "id": "disabled-security",
   "metadata": {},
   "source": [
    "### Day Of Week"
   ]
  },
  {
   "cell_type": "code",
   "execution_count": 6,
   "id": "herbal-meaning",
   "metadata": {},
   "outputs": [],
   "source": [
    "# plt.figure(figsize=(12,6))\n",
    "# sns.barplot(y='ctr', x='dayofweek', data=full_data)\n",
    "# plt.title('Day of week Click Through Rate');"
   ]
  },
  {
   "cell_type": "code",
   "execution_count": 7,
   "id": "certified-physiology",
   "metadata": {},
   "outputs": [],
   "source": [
    "# plt.figure(figsize=(12,6))\n",
    "# sns.barplot(y='conversion_rate', x='dayofweek', data=full_data)\n",
    "# plt.title('Day of week Conversion Rate');"
   ]
  },
  {
   "cell_type": "code",
   "execution_count": 8,
   "id": "brave-wallpaper",
   "metadata": {},
   "outputs": [
    {
     "data": {
      "image/png": "[encoded data removed]",
      "text/plain": [
       "<Figure size 864x432 with 1 Axes>"
      ]
     },
     "metadata": {
      "needs_background": "light"
     },
     "output_type": "display_data"
    }
   ],
   "source": [
    "plt.figure(figsize=(12,6))\n",
    "sns.barplot(y='custom_conversion_rate', x='dayofweek', data=full_data)\n",
    "plt.title('Day of week Custom Conversion Rate');"
   ]
  },
  {
   "cell_type": "markdown",
   "id": "technological-wound",
   "metadata": {},
   "source": [
    "#### Impact of campaign"
   ]
  },
  {
   "cell_type": "code",
   "execution_count": 36,
   "id": "organizational-karen",
   "metadata": {},
   "outputs": [
    {
     "name": "stderr",
     "output_type": "stream",
     "text": [
      "F:\\miniconda3\\envs\\lfi\\lib\\site-packages\\seaborn\\distributions.py:2557: FutureWarning: `distplot` is a deprecated function and will be removed in a future version. Please adapt your code to use either `displot` (a figure-level function with similar flexibility) or `histplot` (an axes-level function for histograms).\n",
      "  warnings.warn(msg, FutureWarning)\n"
     ]
    },
    {
     "data": {
      "text/plain": [
       "<AxesSubplot:xlabel='campaign_id', ylabel='Density'>"
      ]
     },
     "execution_count": 36,
     "metadata": {},
     "output_type": "execute_result"
    },
    {
     "data": {
      "image/png": "[encoded data removed]",
      "text/plain": [
       "<Figure size 432x288 with 1 Axes>"
      ]
     },
     "metadata": {
      "needs_background": "light"
     },
     "output_type": "display_data"
    }
   ],
   "source": [
    "#Campaign Id Histogram\n",
    "sns.distplot(full_data['campaign_id'])"
   ]
  },
  {
   "cell_type": "code",
   "execution_count": 31,
   "id": "official-driving",
   "metadata": {},
   "outputs": [
    {
     "data": {
      "image/png": "[encoded data removed]",
      "text/plain": [
       "<Figure size 864x432 with 1 Axes>"
      ]
     },
     "metadata": {
      "needs_background": "light"
     },
     "output_type": "display_data"
    }
   ],
   "source": [
    "plt.figure(figsize=(12,6))\n",
    "ax = sns.barplot(y='custom_conversion_rate', x='campaign_id', data=full_data)\n",
    "#ax.set_xticklabels(ax.get_xticklabels(),rotation=90)\n",
    "plt.title('Custom Conversion Rate By Campaign');"
   ]
  },
  {
   "cell_type": "code",
   "execution_count": 44,
   "id": "olympic-printer",
   "metadata": {},
   "outputs": [
    {
     "data": {
      "text/plain": [
       "<AxesSubplot:xlabel='spend', ylabel='custom_conversion_rate'>"
      ]
     },
     "execution_count": 44,
     "metadata": {},
     "output_type": "execute_result"
    },
    {
     "data": {
      "image/png": "[encoded data removed]",
      "text/plain": [
       "<Figure size 432x288 with 1 Axes>"
      ]
     },
     "metadata": {
      "needs_background": "light"
     },
     "output_type": "display_data"
    }
   ],
   "source": [
    "sns.scatterplot(data=full_data, x=\"spend\", y=\"custom_conversion_rate\")"
   ]
  },
  {
   "cell_type": "code",
   "execution_count": 223,
   "id": "solid-minute",
   "metadata": {
    "scrolled": false
   },
   "outputs": [
    {
     "data": {
      "text/plain": [
       "array(['campaign_id_23845255826960549_ad_id_23845265141010549',\n",
       "       'campaign_id_23845255826960549_ad_id_23845265141010549',\n",
       "       'campaign_id_23845255826960549_ad_id_23845256153090549',\n",
       "       'campaign_id_23845255826960549_ad_id_23845256153090549',\n",
       "       'campaign_id_23845255826960549_ad_id_23845256153090549',\n",
       "       'campaign_id_23845255826960549_ad_id_23845256153090549'],\n",
       "      dtype=object)"
      ]
     },
     "execution_count": 223,
     "metadata": {},
     "output_type": "execute_result"
    }
   ],
   "source": [
    "missed_purchase_infos = df[(~df.unique_ids.isin(prepared_df.unique_ids.unique())) &(df.purchase>0)]\n",
    "missed_purchase_infos.unique_ids.values"
   ]
  },
  {
   "cell_type": "markdown",
   "id": "incorporate-somerset",
   "metadata": {},
   "source": [
    "## Relationships"
   ]
  },
  {
   "cell_type": "code",
   "execution_count": 45,
   "id": "paperback-causing",
   "metadata": {},
   "outputs": [
    {
     "data": {
      "text/html": [
       "<div>\n",
       "<style scoped>\n",
       "    .dataframe tbody tr th:only-of-type {\n",
       "        vertical-align: middle;\n",
       "    }\n",
       "\n",
       "    .dataframe tbody tr th {\n",
       "        vertical-align: top;\n",
       "    }\n",
       "\n",
       "    .dataframe thead th {\n",
       "        text-align: right;\n",
       "    }\n",
       "</style>\n",
       "<table border=\"1\" class=\"dataframe\">\n",
       "  <thead>\n",
       "    <tr style=\"text-align: right;\">\n",
       "      <th></th>\n",
       "      <th>hour</th>\n",
       "      <th>dayofweek</th>\n",
       "      <th>spend</th>\n",
       "      <th>impressions</th>\n",
       "      <th>ctr</th>\n",
       "      <th>conversion_rate</th>\n",
       "      <th>custom_conversion_rate</th>\n",
       "      <th>next_hour_custom_conversion_rate</th>\n",
       "    </tr>\n",
       "  </thead>\n",
       "  <tbody>\n",
       "    <tr>\n",
       "      <th>hour</th>\n",
       "      <td>1.000000</td>\n",
       "      <td>0.087060</td>\n",
       "      <td>0.070280</td>\n",
       "      <td>0.012286</td>\n",
       "      <td>0.030730</td>\n",
       "      <td>0.013511</td>\n",
       "      <td>0.032729</td>\n",
       "      <td>0.023634</td>\n",
       "    </tr>\n",
       "    <tr>\n",
       "      <th>dayofweek</th>\n",
       "      <td>0.087060</td>\n",
       "      <td>1.000000</td>\n",
       "      <td>-0.011246</td>\n",
       "      <td>-0.031718</td>\n",
       "      <td>0.016011</td>\n",
       "      <td>-0.012777</td>\n",
       "      <td>0.006690</td>\n",
       "      <td>0.004326</td>\n",
       "    </tr>\n",
       "    <tr>\n",
       "      <th>spend</th>\n",
       "      <td>0.070280</td>\n",
       "      <td>-0.011246</td>\n",
       "      <td>1.000000</td>\n",
       "      <td>0.579817</td>\n",
       "      <td>0.010817</td>\n",
       "      <td>0.027620</td>\n",
       "      <td>0.023476</td>\n",
       "      <td>0.012918</td>\n",
       "    </tr>\n",
       "    <tr>\n",
       "      <th>impressions</th>\n",
       "      <td>0.012286</td>\n",
       "      <td>-0.031718</td>\n",
       "      <td>0.579817</td>\n",
       "      <td>1.000000</td>\n",
       "      <td>-0.009483</td>\n",
       "      <td>0.006061</td>\n",
       "      <td>-0.004750</td>\n",
       "      <td>-0.006123</td>\n",
       "    </tr>\n",
       "    <tr>\n",
       "      <th>ctr</th>\n",
       "      <td>0.030730</td>\n",
       "      <td>0.016011</td>\n",
       "      <td>0.010817</td>\n",
       "      <td>-0.009483</td>\n",
       "      <td>1.000000</td>\n",
       "      <td>0.033328</td>\n",
       "      <td>0.852561</td>\n",
       "      <td>0.038363</td>\n",
       "    </tr>\n",
       "    <tr>\n",
       "      <th>conversion_rate</th>\n",
       "      <td>0.013511</td>\n",
       "      <td>-0.012777</td>\n",
       "      <td>0.027620</td>\n",
       "      <td>0.006061</td>\n",
       "      <td>0.033328</td>\n",
       "      <td>1.000000</td>\n",
       "      <td>0.550752</td>\n",
       "      <td>0.008805</td>\n",
       "    </tr>\n",
       "    <tr>\n",
       "      <th>custom_conversion_rate</th>\n",
       "      <td>0.032729</td>\n",
       "      <td>0.006690</td>\n",
       "      <td>0.023476</td>\n",
       "      <td>-0.004750</td>\n",
       "      <td>0.852561</td>\n",
       "      <td>0.550752</td>\n",
       "      <td>1.000000</td>\n",
       "      <td>0.036642</td>\n",
       "    </tr>\n",
       "    <tr>\n",
       "      <th>next_hour_custom_conversion_rate</th>\n",
       "      <td>0.023634</td>\n",
       "      <td>0.004326</td>\n",
       "      <td>0.012918</td>\n",
       "      <td>-0.006123</td>\n",
       "      <td>0.038363</td>\n",
       "      <td>0.008805</td>\n",
       "      <td>0.036642</td>\n",
       "      <td>1.000000</td>\n",
       "    </tr>\n",
       "  </tbody>\n",
       "</table>\n",
       "</div>"
      ],
      "text/plain": [
       "                                      hour  dayofweek     spend  impressions  \\\n",
       "hour                              1.000000   0.087060  0.070280     0.012286   \n",
       "dayofweek                         0.087060   1.000000 -0.011246    -0.031718   \n",
       "spend                             0.070280  -0.011246  1.000000     0.579817   \n",
       "impressions                       0.012286  -0.031718  0.579817     1.000000   \n",
       "ctr                               0.030730   0.016011  0.010817    -0.009483   \n",
       "conversion_rate                   0.013511  -0.012777  0.027620     0.006061   \n",
       "custom_conversion_rate            0.032729   0.006690  0.023476    -0.004750   \n",
       "next_hour_custom_conversion_rate  0.023634   0.004326  0.012918    -0.006123   \n",
       "\n",
       "                                       ctr  conversion_rate  \\\n",
       "hour                              0.030730         0.013511   \n",
       "dayofweek                         0.016011        -0.012777   \n",
       "spend                             0.010817         0.027620   \n",
       "impressions                      -0.009483         0.006061   \n",
       "ctr                               1.000000         0.033328   \n",
       "conversion_rate                   0.033328         1.000000   \n",
       "custom_conversion_rate            0.852561         0.550752   \n",
       "next_hour_custom_conversion_rate  0.038363         0.008805   \n",
       "\n",
       "                                  custom_conversion_rate  \\\n",
       "hour                                            0.032729   \n",
       "dayofweek                                       0.006690   \n",
       "spend                                           0.023476   \n",
       "impressions                                    -0.004750   \n",
       "ctr                                             0.852561   \n",
       "conversion_rate                                 0.550752   \n",
       "custom_conversion_rate                          1.000000   \n",
       "next_hour_custom_conversion_rate                0.036642   \n",
       "\n",
       "                                  next_hour_custom_conversion_rate  \n",
       "hour                                                      0.023634  \n",
       "dayofweek                                                 0.004326  \n",
       "spend                                                     0.012918  \n",
       "impressions                                              -0.006123  \n",
       "ctr                                                       0.038363  \n",
       "conversion_rate                                           0.008805  \n",
       "custom_conversion_rate                                    0.036642  \n",
       "next_hour_custom_conversion_rate                          1.000000  "
      ]
     },
     "execution_count": 45,
     "metadata": {},
     "output_type": "execute_result"
    }
   ],
   "source": [
    "sample_features = ['hour', 'dayofweek','spend', 'impressions', 'ctr', 'conversion_rate', 'custom_conversion_rate', 'next_hour_custom_conversion_rate']\n",
    "full_data[sample_features].corr(method ='pearson')"
   ]
  }
 ],
 "metadata": {
  "kernelspec": {
   "display_name": "Python 3",
   "language": "python",
   "name": "python3"
  },
  "language_info": {
   "codemirror_mode": {
    "name": "ipython",
    "version": 3
   },
   "file_extension": ".py",
   "mimetype": "text/x-python",
   "name": "python",
   "nbconvert_exporter": "python",
   "pygments_lexer": "ipython3",
   "version": "3.8.8"
  }
 },
 "nbformat": 4,
 "nbformat_minor": 5
}
